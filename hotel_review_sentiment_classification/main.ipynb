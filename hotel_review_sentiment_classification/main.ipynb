{
  "nbformat": 4,
  "nbformat_minor": 0,
  "metadata": {
    "colab": {
      "provenance": []
    },
    "kernelspec": {
      "name": "python3",
      "display_name": "Python 3"
    },
    "language_info": {
      "name": "python"
    }
  },
  "cells": [
    {
      "cell_type": "code",
      "source": [
        "!apt-get update\n",
        "!apt-get install g++ openjdk-8-jdk\n",
        "!pip install konlpy JPype1-py3\n",
        "!bash <(curl -s https://raw.githubusercontent.com/konlpy/konlpy/master/scripts/mecab.sh)"
      ],
      "metadata": {
        "id": "gBrU4n7s8Hug"
      },
      "execution_count": null,
      "outputs": []
    },
    {
      "cell_type": "markdown",
      "source": [
        "## 필요한 모듈 불러오기"
      ],
      "metadata": {
        "id": "DqWbTHDSLmh-"
      }
    },
    {
      "cell_type": "code",
      "execution_count": null,
      "metadata": {
        "id": "sYsInRI68EjV"
      },
      "outputs": [],
      "source": [
        "import pickle\n",
        "import pandas as pd\n",
        "import numpy as np\n",
        "import matplotlib.pyplot as plt\n",
        "import re\n",
        "import urllib.request\n",
        "from konlpy.tag import Okt\n",
        "from tqdm import tqdm\n",
        "from tensorflow.keras.preprocessing.text import Tokenizer\n",
        "from tensorflow.keras.preprocessing.sequence import pad_sequences"
      ]
    },
    {
      "cell_type": "code",
      "source": [
        "reviews= pd.read_csv('reviews.csv')"
      ],
      "metadata": {
        "id": "XuR0_lNz9Opm"
      },
      "execution_count": null,
      "outputs": []
    },
    {
      "cell_type": "code",
      "source": [
        "reviews.shape"
      ],
      "metadata": {
        "colab": {
          "base_uri": "https://localhost:8080/"
        },
        "id": "J40F-zis9Y-a",
        "outputId": "37e70edf-306b-48f4-82c3-8c58b31479db"
      },
      "execution_count": null,
      "outputs": [
        {
          "output_type": "execute_result",
          "data": {
            "text/plain": [
              "(3020, 6)"
            ]
          },
          "metadata": {},
          "execution_count": 7
        }
      ]
    },
    {
      "cell_type": "markdown",
      "source": [
        "## **데이터 전처리**"
      ],
      "metadata": {
        "id": "ka6Zalj0LsDR"
      }
    },
    {
      "cell_type": "code",
      "source": [
        "# 필요없는 컬럼 제거\n",
        "reviews = reviews.drop(labels=['Unnamed: 0.1', 'Unnamed: 0', 'index'], axis=1)"
      ],
      "metadata": {
        "id": "STfeSrps9bMV"
      },
      "execution_count": null,
      "outputs": []
    },
    {
      "cell_type": "code",
      "source": [
        "reviews"
      ],
      "metadata": {
        "colab": {
          "base_uri": "https://localhost:8080/",
          "height": 467
        },
        "id": "sbKy8rlT9gEU",
        "outputId": "bc973152-0037-4d3d-8653-a9a6e98a47e0"
      },
      "execution_count": null,
      "outputs": [
        {
          "output_type": "execute_result",
          "data": {
            "text/plain": [
              "            hotel  score                                             review\n",
              "0     아리랑힐 호텔 동대문      5  최근에 회사 연수로 급 서울권 호텔을 검색했어요 코로나 이전보다 가격이 많이 올랐더...\n",
              "1     아리랑힐 호텔 동대문      5  뚜벅이들에게 중요한 교통편이 편해서 좋았습니다. 6번 출구에서 바로 찾을 수 있고 ...\n",
              "2     아리랑힐 호텔 동대문      5  작년 초에 친구들과 가성비 좋은 호텔을 찾아보다가 아리랑힐 호텔을 투숙했는데 다른 ...\n",
              "3     아리랑힐 호텔 동대문      5  잠깐 서울 방문할 일이 있어 이용하였던 호텔인데 프런트 직원분들도 너무 친절하시고 ...\n",
              "4     아리랑힐 호텔 동대문      5  성신여대 역에서 가까워 교통이 정말 편리합니다. 룸 컨디션도 좋아 정말 좋게 푹 쉬...\n",
              "...           ...    ...                                                ...\n",
              "3015     롯데 호텔 월드      1  룸이 1818호라고 안내하며 웃음을 참는 직원을 제가 어떻게 받아들여야 하나요? 웃...\n",
              "3016     롯데 호텔 월드      1  룸이 방음이 안돼서 옆방 아이 이야기소리에 자다 깼어요 복도랑 방 냄새도 퀘퀘하고 ...\n",
              "3017     롯데 호텔 월드      1  Ⅰ-1. 2017년 11월 26일 본인의 장인어른께서 잠실롯데호텔 사우나 실을 이용...\n",
              "3018     롯데 호텔 월드      1  1. 몇 년 전 방문 했을 때도 우리 가족은 매우 불쾌했다. 담당자는 체크아웃을 하...\n",
              "3019     롯데 호텔 월드      1  묵은건 몇달 전입니다. 샤롯데도 가까워서 뮤지컬관람하고 바로 오기도 좋고, 간단하게...\n",
              "\n",
              "[3020 rows x 3 columns]"
            ],
            "text/html": [
              "\n",
              "  <div id=\"df-253d9651-bf2d-40d8-962f-a8ded42525eb\">\n",
              "    <div class=\"colab-df-container\">\n",
              "      <div>\n",
              "<style scoped>\n",
              "    .dataframe tbody tr th:only-of-type {\n",
              "        vertical-align: middle;\n",
              "    }\n",
              "\n",
              "    .dataframe tbody tr th {\n",
              "        vertical-align: top;\n",
              "    }\n",
              "\n",
              "    .dataframe thead th {\n",
              "        text-align: right;\n",
              "    }\n",
              "</style>\n",
              "<table border=\"1\" class=\"dataframe\">\n",
              "  <thead>\n",
              "    <tr style=\"text-align: right;\">\n",
              "      <th></th>\n",
              "      <th>hotel</th>\n",
              "      <th>score</th>\n",
              "      <th>review</th>\n",
              "    </tr>\n",
              "  </thead>\n",
              "  <tbody>\n",
              "    <tr>\n",
              "      <th>0</th>\n",
              "      <td>아리랑힐 호텔 동대문</td>\n",
              "      <td>5</td>\n",
              "      <td>최근에 회사 연수로 급 서울권 호텔을 검색했어요 코로나 이전보다 가격이 많이 올랐더...</td>\n",
              "    </tr>\n",
              "    <tr>\n",
              "      <th>1</th>\n",
              "      <td>아리랑힐 호텔 동대문</td>\n",
              "      <td>5</td>\n",
              "      <td>뚜벅이들에게 중요한 교통편이 편해서 좋았습니다. 6번 출구에서 바로 찾을 수 있고 ...</td>\n",
              "    </tr>\n",
              "    <tr>\n",
              "      <th>2</th>\n",
              "      <td>아리랑힐 호텔 동대문</td>\n",
              "      <td>5</td>\n",
              "      <td>작년 초에 친구들과 가성비 좋은 호텔을 찾아보다가 아리랑힐 호텔을 투숙했는데 다른 ...</td>\n",
              "    </tr>\n",
              "    <tr>\n",
              "      <th>3</th>\n",
              "      <td>아리랑힐 호텔 동대문</td>\n",
              "      <td>5</td>\n",
              "      <td>잠깐 서울 방문할 일이 있어 이용하였던 호텔인데 프런트 직원분들도 너무 친절하시고 ...</td>\n",
              "    </tr>\n",
              "    <tr>\n",
              "      <th>4</th>\n",
              "      <td>아리랑힐 호텔 동대문</td>\n",
              "      <td>5</td>\n",
              "      <td>성신여대 역에서 가까워 교통이 정말 편리합니다. 룸 컨디션도 좋아 정말 좋게 푹 쉬...</td>\n",
              "    </tr>\n",
              "    <tr>\n",
              "      <th>...</th>\n",
              "      <td>...</td>\n",
              "      <td>...</td>\n",
              "      <td>...</td>\n",
              "    </tr>\n",
              "    <tr>\n",
              "      <th>3015</th>\n",
              "      <td>롯데 호텔 월드</td>\n",
              "      <td>1</td>\n",
              "      <td>룸이 1818호라고 안내하며 웃음을 참는 직원을 제가 어떻게 받아들여야 하나요? 웃...</td>\n",
              "    </tr>\n",
              "    <tr>\n",
              "      <th>3016</th>\n",
              "      <td>롯데 호텔 월드</td>\n",
              "      <td>1</td>\n",
              "      <td>룸이 방음이 안돼서 옆방 아이 이야기소리에 자다 깼어요 복도랑 방 냄새도 퀘퀘하고 ...</td>\n",
              "    </tr>\n",
              "    <tr>\n",
              "      <th>3017</th>\n",
              "      <td>롯데 호텔 월드</td>\n",
              "      <td>1</td>\n",
              "      <td>Ⅰ-1. 2017년 11월 26일 본인의 장인어른께서 잠실롯데호텔 사우나 실을 이용...</td>\n",
              "    </tr>\n",
              "    <tr>\n",
              "      <th>3018</th>\n",
              "      <td>롯데 호텔 월드</td>\n",
              "      <td>1</td>\n",
              "      <td>1. 몇 년 전 방문 했을 때도 우리 가족은 매우 불쾌했다. 담당자는 체크아웃을 하...</td>\n",
              "    </tr>\n",
              "    <tr>\n",
              "      <th>3019</th>\n",
              "      <td>롯데 호텔 월드</td>\n",
              "      <td>1</td>\n",
              "      <td>묵은건 몇달 전입니다. 샤롯데도 가까워서 뮤지컬관람하고 바로 오기도 좋고, 간단하게...</td>\n",
              "    </tr>\n",
              "  </tbody>\n",
              "</table>\n",
              "<p>3020 rows × 3 columns</p>\n",
              "</div>\n",
              "      <button class=\"colab-df-convert\" onclick=\"convertToInteractive('df-253d9651-bf2d-40d8-962f-a8ded42525eb')\"\n",
              "              title=\"Convert this dataframe to an interactive table.\"\n",
              "              style=\"display:none;\">\n",
              "        \n",
              "  <svg xmlns=\"http://www.w3.org/2000/svg\" height=\"24px\"viewBox=\"0 0 24 24\"\n",
              "       width=\"24px\">\n",
              "    <path d=\"M0 0h24v24H0V0z\" fill=\"none\"/>\n",
              "    <path d=\"M18.56 5.44l.94 2.06.94-2.06 2.06-.94-2.06-.94-.94-2.06-.94 2.06-2.06.94zm-11 1L8.5 8.5l.94-2.06 2.06-.94-2.06-.94L8.5 2.5l-.94 2.06-2.06.94zm10 10l.94 2.06.94-2.06 2.06-.94-2.06-.94-.94-2.06-.94 2.06-2.06.94z\"/><path d=\"M17.41 7.96l-1.37-1.37c-.4-.4-.92-.59-1.43-.59-.52 0-1.04.2-1.43.59L10.3 9.45l-7.72 7.72c-.78.78-.78 2.05 0 2.83L4 21.41c.39.39.9.59 1.41.59.51 0 1.02-.2 1.41-.59l7.78-7.78 2.81-2.81c.8-.78.8-2.07 0-2.86zM5.41 20L4 18.59l7.72-7.72 1.47 1.35L5.41 20z\"/>\n",
              "  </svg>\n",
              "      </button>\n",
              "      \n",
              "  <style>\n",
              "    .colab-df-container {\n",
              "      display:flex;\n",
              "      flex-wrap:wrap;\n",
              "      gap: 12px;\n",
              "    }\n",
              "\n",
              "    .colab-df-convert {\n",
              "      background-color: #E8F0FE;\n",
              "      border: none;\n",
              "      border-radius: 50%;\n",
              "      cursor: pointer;\n",
              "      display: none;\n",
              "      fill: #1967D2;\n",
              "      height: 32px;\n",
              "      padding: 0 0 0 0;\n",
              "      width: 32px;\n",
              "    }\n",
              "\n",
              "    .colab-df-convert:hover {\n",
              "      background-color: #E2EBFA;\n",
              "      box-shadow: 0px 1px 2px rgba(60, 64, 67, 0.3), 0px 1px 3px 1px rgba(60, 64, 67, 0.15);\n",
              "      fill: #174EA6;\n",
              "    }\n",
              "\n",
              "    [theme=dark] .colab-df-convert {\n",
              "      background-color: #3B4455;\n",
              "      fill: #D2E3FC;\n",
              "    }\n",
              "\n",
              "    [theme=dark] .colab-df-convert:hover {\n",
              "      background-color: #434B5C;\n",
              "      box-shadow: 0px 1px 3px 1px rgba(0, 0, 0, 0.15);\n",
              "      filter: drop-shadow(0px 1px 2px rgba(0, 0, 0, 0.3));\n",
              "      fill: #FFFFFF;\n",
              "    }\n",
              "  </style>\n",
              "\n",
              "      <script>\n",
              "        const buttonEl =\n",
              "          document.querySelector('#df-253d9651-bf2d-40d8-962f-a8ded42525eb button.colab-df-convert');\n",
              "        buttonEl.style.display =\n",
              "          google.colab.kernel.accessAllowed ? 'block' : 'none';\n",
              "\n",
              "        async function convertToInteractive(key) {\n",
              "          const element = document.querySelector('#df-253d9651-bf2d-40d8-962f-a8ded42525eb');\n",
              "          const dataTable =\n",
              "            await google.colab.kernel.invokeFunction('convertToInteractive',\n",
              "                                                     [key], {});\n",
              "          if (!dataTable) return;\n",
              "\n",
              "          const docLinkHtml = 'Like what you see? Visit the ' +\n",
              "            '<a target=\"_blank\" href=https://colab.research.google.com/notebooks/data_table.ipynb>data table notebook</a>'\n",
              "            + ' to learn more about interactive tables.';\n",
              "          element.innerHTML = '';\n",
              "          dataTable['output_type'] = 'display_data';\n",
              "          await google.colab.output.renderOutput(dataTable, element);\n",
              "          const docLink = document.createElement('div');\n",
              "          docLink.innerHTML = docLinkHtml;\n",
              "          element.appendChild(docLink);\n",
              "        }\n",
              "      </script>\n",
              "    </div>\n",
              "  </div>\n",
              "  "
            ]
          },
          "metadata": {},
          "execution_count": 11
        }
      ]
    },
    {
      "cell_type": "code",
      "source": [
        "reviews.dropna()"
      ],
      "metadata": {
        "colab": {
          "base_uri": "https://localhost:8080/",
          "height": 467
        },
        "id": "reChzRtH9g9D",
        "outputId": "78414d6f-4fcc-4731-d9bf-14206bf62af2"
      },
      "execution_count": null,
      "outputs": [
        {
          "output_type": "execute_result",
          "data": {
            "text/plain": [
              "            hotel  score                                             review\n",
              "0     아리랑힐 호텔 동대문      5  최근에 회사 연수로 급 서울권 호텔을 검색했어요 코로나 이전보다 가격이 많이 올랐더...\n",
              "1     아리랑힐 호텔 동대문      5  뚜벅이들에게 중요한 교통편이 편해서 좋았습니다. 6번 출구에서 바로 찾을 수 있고 ...\n",
              "2     아리랑힐 호텔 동대문      5  작년 초에 친구들과 가성비 좋은 호텔을 찾아보다가 아리랑힐 호텔을 투숙했는데 다른 ...\n",
              "3     아리랑힐 호텔 동대문      5  잠깐 서울 방문할 일이 있어 이용하였던 호텔인데 프런트 직원분들도 너무 친절하시고 ...\n",
              "4     아리랑힐 호텔 동대문      5  성신여대 역에서 가까워 교통이 정말 편리합니다. 룸 컨디션도 좋아 정말 좋게 푹 쉬...\n",
              "...           ...    ...                                                ...\n",
              "3015     롯데 호텔 월드      1  룸이 1818호라고 안내하며 웃음을 참는 직원을 제가 어떻게 받아들여야 하나요? 웃...\n",
              "3016     롯데 호텔 월드      1  룸이 방음이 안돼서 옆방 아이 이야기소리에 자다 깼어요 복도랑 방 냄새도 퀘퀘하고 ...\n",
              "3017     롯데 호텔 월드      1  Ⅰ-1. 2017년 11월 26일 본인의 장인어른께서 잠실롯데호텔 사우나 실을 이용...\n",
              "3018     롯데 호텔 월드      1  1. 몇 년 전 방문 했을 때도 우리 가족은 매우 불쾌했다. 담당자는 체크아웃을 하...\n",
              "3019     롯데 호텔 월드      1  묵은건 몇달 전입니다. 샤롯데도 가까워서 뮤지컬관람하고 바로 오기도 좋고, 간단하게...\n",
              "\n",
              "[3020 rows x 3 columns]"
            ],
            "text/html": [
              "\n",
              "  <div id=\"df-c7a221e2-c356-4885-8959-84e4856dcec1\">\n",
              "    <div class=\"colab-df-container\">\n",
              "      <div>\n",
              "<style scoped>\n",
              "    .dataframe tbody tr th:only-of-type {\n",
              "        vertical-align: middle;\n",
              "    }\n",
              "\n",
              "    .dataframe tbody tr th {\n",
              "        vertical-align: top;\n",
              "    }\n",
              "\n",
              "    .dataframe thead th {\n",
              "        text-align: right;\n",
              "    }\n",
              "</style>\n",
              "<table border=\"1\" class=\"dataframe\">\n",
              "  <thead>\n",
              "    <tr style=\"text-align: right;\">\n",
              "      <th></th>\n",
              "      <th>hotel</th>\n",
              "      <th>score</th>\n",
              "      <th>review</th>\n",
              "    </tr>\n",
              "  </thead>\n",
              "  <tbody>\n",
              "    <tr>\n",
              "      <th>0</th>\n",
              "      <td>아리랑힐 호텔 동대문</td>\n",
              "      <td>5</td>\n",
              "      <td>최근에 회사 연수로 급 서울권 호텔을 검색했어요 코로나 이전보다 가격이 많이 올랐더...</td>\n",
              "    </tr>\n",
              "    <tr>\n",
              "      <th>1</th>\n",
              "      <td>아리랑힐 호텔 동대문</td>\n",
              "      <td>5</td>\n",
              "      <td>뚜벅이들에게 중요한 교통편이 편해서 좋았습니다. 6번 출구에서 바로 찾을 수 있고 ...</td>\n",
              "    </tr>\n",
              "    <tr>\n",
              "      <th>2</th>\n",
              "      <td>아리랑힐 호텔 동대문</td>\n",
              "      <td>5</td>\n",
              "      <td>작년 초에 친구들과 가성비 좋은 호텔을 찾아보다가 아리랑힐 호텔을 투숙했는데 다른 ...</td>\n",
              "    </tr>\n",
              "    <tr>\n",
              "      <th>3</th>\n",
              "      <td>아리랑힐 호텔 동대문</td>\n",
              "      <td>5</td>\n",
              "      <td>잠깐 서울 방문할 일이 있어 이용하였던 호텔인데 프런트 직원분들도 너무 친절하시고 ...</td>\n",
              "    </tr>\n",
              "    <tr>\n",
              "      <th>4</th>\n",
              "      <td>아리랑힐 호텔 동대문</td>\n",
              "      <td>5</td>\n",
              "      <td>성신여대 역에서 가까워 교통이 정말 편리합니다. 룸 컨디션도 좋아 정말 좋게 푹 쉬...</td>\n",
              "    </tr>\n",
              "    <tr>\n",
              "      <th>...</th>\n",
              "      <td>...</td>\n",
              "      <td>...</td>\n",
              "      <td>...</td>\n",
              "    </tr>\n",
              "    <tr>\n",
              "      <th>3015</th>\n",
              "      <td>롯데 호텔 월드</td>\n",
              "      <td>1</td>\n",
              "      <td>룸이 1818호라고 안내하며 웃음을 참는 직원을 제가 어떻게 받아들여야 하나요? 웃...</td>\n",
              "    </tr>\n",
              "    <tr>\n",
              "      <th>3016</th>\n",
              "      <td>롯데 호텔 월드</td>\n",
              "      <td>1</td>\n",
              "      <td>룸이 방음이 안돼서 옆방 아이 이야기소리에 자다 깼어요 복도랑 방 냄새도 퀘퀘하고 ...</td>\n",
              "    </tr>\n",
              "    <tr>\n",
              "      <th>3017</th>\n",
              "      <td>롯데 호텔 월드</td>\n",
              "      <td>1</td>\n",
              "      <td>Ⅰ-1. 2017년 11월 26일 본인의 장인어른께서 잠실롯데호텔 사우나 실을 이용...</td>\n",
              "    </tr>\n",
              "    <tr>\n",
              "      <th>3018</th>\n",
              "      <td>롯데 호텔 월드</td>\n",
              "      <td>1</td>\n",
              "      <td>1. 몇 년 전 방문 했을 때도 우리 가족은 매우 불쾌했다. 담당자는 체크아웃을 하...</td>\n",
              "    </tr>\n",
              "    <tr>\n",
              "      <th>3019</th>\n",
              "      <td>롯데 호텔 월드</td>\n",
              "      <td>1</td>\n",
              "      <td>묵은건 몇달 전입니다. 샤롯데도 가까워서 뮤지컬관람하고 바로 오기도 좋고, 간단하게...</td>\n",
              "    </tr>\n",
              "  </tbody>\n",
              "</table>\n",
              "<p>3020 rows × 3 columns</p>\n",
              "</div>\n",
              "      <button class=\"colab-df-convert\" onclick=\"convertToInteractive('df-c7a221e2-c356-4885-8959-84e4856dcec1')\"\n",
              "              title=\"Convert this dataframe to an interactive table.\"\n",
              "              style=\"display:none;\">\n",
              "        \n",
              "  <svg xmlns=\"http://www.w3.org/2000/svg\" height=\"24px\"viewBox=\"0 0 24 24\"\n",
              "       width=\"24px\">\n",
              "    <path d=\"M0 0h24v24H0V0z\" fill=\"none\"/>\n",
              "    <path d=\"M18.56 5.44l.94 2.06.94-2.06 2.06-.94-2.06-.94-.94-2.06-.94 2.06-2.06.94zm-11 1L8.5 8.5l.94-2.06 2.06-.94-2.06-.94L8.5 2.5l-.94 2.06-2.06.94zm10 10l.94 2.06.94-2.06 2.06-.94-2.06-.94-.94-2.06-.94 2.06-2.06.94z\"/><path d=\"M17.41 7.96l-1.37-1.37c-.4-.4-.92-.59-1.43-.59-.52 0-1.04.2-1.43.59L10.3 9.45l-7.72 7.72c-.78.78-.78 2.05 0 2.83L4 21.41c.39.39.9.59 1.41.59.51 0 1.02-.2 1.41-.59l7.78-7.78 2.81-2.81c.8-.78.8-2.07 0-2.86zM5.41 20L4 18.59l7.72-7.72 1.47 1.35L5.41 20z\"/>\n",
              "  </svg>\n",
              "      </button>\n",
              "      \n",
              "  <style>\n",
              "    .colab-df-container {\n",
              "      display:flex;\n",
              "      flex-wrap:wrap;\n",
              "      gap: 12px;\n",
              "    }\n",
              "\n",
              "    .colab-df-convert {\n",
              "      background-color: #E8F0FE;\n",
              "      border: none;\n",
              "      border-radius: 50%;\n",
              "      cursor: pointer;\n",
              "      display: none;\n",
              "      fill: #1967D2;\n",
              "      height: 32px;\n",
              "      padding: 0 0 0 0;\n",
              "      width: 32px;\n",
              "    }\n",
              "\n",
              "    .colab-df-convert:hover {\n",
              "      background-color: #E2EBFA;\n",
              "      box-shadow: 0px 1px 2px rgba(60, 64, 67, 0.3), 0px 1px 3px 1px rgba(60, 64, 67, 0.15);\n",
              "      fill: #174EA6;\n",
              "    }\n",
              "\n",
              "    [theme=dark] .colab-df-convert {\n",
              "      background-color: #3B4455;\n",
              "      fill: #D2E3FC;\n",
              "    }\n",
              "\n",
              "    [theme=dark] .colab-df-convert:hover {\n",
              "      background-color: #434B5C;\n",
              "      box-shadow: 0px 1px 3px 1px rgba(0, 0, 0, 0.15);\n",
              "      filter: drop-shadow(0px 1px 2px rgba(0, 0, 0, 0.3));\n",
              "      fill: #FFFFFF;\n",
              "    }\n",
              "  </style>\n",
              "\n",
              "      <script>\n",
              "        const buttonEl =\n",
              "          document.querySelector('#df-c7a221e2-c356-4885-8959-84e4856dcec1 button.colab-df-convert');\n",
              "        buttonEl.style.display =\n",
              "          google.colab.kernel.accessAllowed ? 'block' : 'none';\n",
              "\n",
              "        async function convertToInteractive(key) {\n",
              "          const element = document.querySelector('#df-c7a221e2-c356-4885-8959-84e4856dcec1');\n",
              "          const dataTable =\n",
              "            await google.colab.kernel.invokeFunction('convertToInteractive',\n",
              "                                                     [key], {});\n",
              "          if (!dataTable) return;\n",
              "\n",
              "          const docLinkHtml = 'Like what you see? Visit the ' +\n",
              "            '<a target=\"_blank\" href=https://colab.research.google.com/notebooks/data_table.ipynb>data table notebook</a>'\n",
              "            + ' to learn more about interactive tables.';\n",
              "          element.innerHTML = '';\n",
              "          dataTable['output_type'] = 'display_data';\n",
              "          await google.colab.output.renderOutput(dataTable, element);\n",
              "          const docLink = document.createElement('div');\n",
              "          docLink.innerHTML = docLinkHtml;\n",
              "          element.appendChild(docLink);\n",
              "        }\n",
              "      </script>\n",
              "    </div>\n",
              "  </div>\n",
              "  "
            ]
          },
          "metadata": {},
          "execution_count": 14
        }
      ]
    },
    {
      "cell_type": "markdown",
      "source": [
        "### 긍정/부정 라벨링"
      ],
      "metadata": {
        "id": "gYfMmI4VLyK9"
      }
    },
    {
      "cell_type": "code",
      "source": [
        "def rating_to_label(score):\n",
        "  if score > 3:\n",
        "    return 1\n",
        "  else:\n",
        "    return 0\n",
        "\n",
        "reviews['y'] = reviews['score'].apply(lambda x: rating_to_label(x))"
      ],
      "metadata": {
        "id": "qMDUC8jl_B4q"
      },
      "execution_count": null,
      "outputs": []
    },
    {
      "cell_type": "code",
      "source": [
        "reviews"
      ],
      "metadata": {
        "colab": {
          "base_uri": "https://localhost:8080/",
          "height": 467
        },
        "id": "99lga-lg_TFR",
        "outputId": "f9666e89-6334-4999-9108-59c7e44d6469"
      },
      "execution_count": null,
      "outputs": [
        {
          "output_type": "execute_result",
          "data": {
            "text/plain": [
              "            hotel  score                                             review  y\n",
              "0     아리랑힐 호텔 동대문      5  최근에 회사 연수로 급 서울권 호텔을 검색했어요 코로나 이전보다 가격이 많이 올랐더...  1\n",
              "1     아리랑힐 호텔 동대문      5  뚜벅이들에게 중요한 교통편이 편해서 좋았습니다. 6번 출구에서 바로 찾을 수 있고 ...  1\n",
              "2     아리랑힐 호텔 동대문      5  작년 초에 친구들과 가성비 좋은 호텔을 찾아보다가 아리랑힐 호텔을 투숙했는데 다른 ...  1\n",
              "3     아리랑힐 호텔 동대문      5  잠깐 서울 방문할 일이 있어 이용하였던 호텔인데 프런트 직원분들도 너무 친절하시고 ...  1\n",
              "4     아리랑힐 호텔 동대문      5  성신여대 역에서 가까워 교통이 정말 편리합니다. 룸 컨디션도 좋아 정말 좋게 푹 쉬...  1\n",
              "...           ...    ...                                                ... ..\n",
              "3015     롯데 호텔 월드      1  룸이 1818호라고 안내하며 웃음을 참는 직원을 제가 어떻게 받아들여야 하나요? 웃...  0\n",
              "3016     롯데 호텔 월드      1  룸이 방음이 안돼서 옆방 아이 이야기소리에 자다 깼어요 복도랑 방 냄새도 퀘퀘하고 ...  0\n",
              "3017     롯데 호텔 월드      1  Ⅰ-1. 2017년 11월 26일 본인의 장인어른께서 잠실롯데호텔 사우나 실을 이용...  0\n",
              "3018     롯데 호텔 월드      1  1. 몇 년 전 방문 했을 때도 우리 가족은 매우 불쾌했다. 담당자는 체크아웃을 하...  0\n",
              "3019     롯데 호텔 월드      1  묵은건 몇달 전입니다. 샤롯데도 가까워서 뮤지컬관람하고 바로 오기도 좋고, 간단하게...  0\n",
              "\n",
              "[3020 rows x 4 columns]"
            ],
            "text/html": [
              "\n",
              "  <div id=\"df-69b47608-37d6-4000-b328-84e3ec9c5c4e\">\n",
              "    <div class=\"colab-df-container\">\n",
              "      <div>\n",
              "<style scoped>\n",
              "    .dataframe tbody tr th:only-of-type {\n",
              "        vertical-align: middle;\n",
              "    }\n",
              "\n",
              "    .dataframe tbody tr th {\n",
              "        vertical-align: top;\n",
              "    }\n",
              "\n",
              "    .dataframe thead th {\n",
              "        text-align: right;\n",
              "    }\n",
              "</style>\n",
              "<table border=\"1\" class=\"dataframe\">\n",
              "  <thead>\n",
              "    <tr style=\"text-align: right;\">\n",
              "      <th></th>\n",
              "      <th>hotel</th>\n",
              "      <th>score</th>\n",
              "      <th>review</th>\n",
              "      <th>y</th>\n",
              "    </tr>\n",
              "  </thead>\n",
              "  <tbody>\n",
              "    <tr>\n",
              "      <th>0</th>\n",
              "      <td>아리랑힐 호텔 동대문</td>\n",
              "      <td>5</td>\n",
              "      <td>최근에 회사 연수로 급 서울권 호텔을 검색했어요 코로나 이전보다 가격이 많이 올랐더...</td>\n",
              "      <td>1</td>\n",
              "    </tr>\n",
              "    <tr>\n",
              "      <th>1</th>\n",
              "      <td>아리랑힐 호텔 동대문</td>\n",
              "      <td>5</td>\n",
              "      <td>뚜벅이들에게 중요한 교통편이 편해서 좋았습니다. 6번 출구에서 바로 찾을 수 있고 ...</td>\n",
              "      <td>1</td>\n",
              "    </tr>\n",
              "    <tr>\n",
              "      <th>2</th>\n",
              "      <td>아리랑힐 호텔 동대문</td>\n",
              "      <td>5</td>\n",
              "      <td>작년 초에 친구들과 가성비 좋은 호텔을 찾아보다가 아리랑힐 호텔을 투숙했는데 다른 ...</td>\n",
              "      <td>1</td>\n",
              "    </tr>\n",
              "    <tr>\n",
              "      <th>3</th>\n",
              "      <td>아리랑힐 호텔 동대문</td>\n",
              "      <td>5</td>\n",
              "      <td>잠깐 서울 방문할 일이 있어 이용하였던 호텔인데 프런트 직원분들도 너무 친절하시고 ...</td>\n",
              "      <td>1</td>\n",
              "    </tr>\n",
              "    <tr>\n",
              "      <th>4</th>\n",
              "      <td>아리랑힐 호텔 동대문</td>\n",
              "      <td>5</td>\n",
              "      <td>성신여대 역에서 가까워 교통이 정말 편리합니다. 룸 컨디션도 좋아 정말 좋게 푹 쉬...</td>\n",
              "      <td>1</td>\n",
              "    </tr>\n",
              "    <tr>\n",
              "      <th>...</th>\n",
              "      <td>...</td>\n",
              "      <td>...</td>\n",
              "      <td>...</td>\n",
              "      <td>...</td>\n",
              "    </tr>\n",
              "    <tr>\n",
              "      <th>3015</th>\n",
              "      <td>롯데 호텔 월드</td>\n",
              "      <td>1</td>\n",
              "      <td>룸이 1818호라고 안내하며 웃음을 참는 직원을 제가 어떻게 받아들여야 하나요? 웃...</td>\n",
              "      <td>0</td>\n",
              "    </tr>\n",
              "    <tr>\n",
              "      <th>3016</th>\n",
              "      <td>롯데 호텔 월드</td>\n",
              "      <td>1</td>\n",
              "      <td>룸이 방음이 안돼서 옆방 아이 이야기소리에 자다 깼어요 복도랑 방 냄새도 퀘퀘하고 ...</td>\n",
              "      <td>0</td>\n",
              "    </tr>\n",
              "    <tr>\n",
              "      <th>3017</th>\n",
              "      <td>롯데 호텔 월드</td>\n",
              "      <td>1</td>\n",
              "      <td>Ⅰ-1. 2017년 11월 26일 본인의 장인어른께서 잠실롯데호텔 사우나 실을 이용...</td>\n",
              "      <td>0</td>\n",
              "    </tr>\n",
              "    <tr>\n",
              "      <th>3018</th>\n",
              "      <td>롯데 호텔 월드</td>\n",
              "      <td>1</td>\n",
              "      <td>1. 몇 년 전 방문 했을 때도 우리 가족은 매우 불쾌했다. 담당자는 체크아웃을 하...</td>\n",
              "      <td>0</td>\n",
              "    </tr>\n",
              "    <tr>\n",
              "      <th>3019</th>\n",
              "      <td>롯데 호텔 월드</td>\n",
              "      <td>1</td>\n",
              "      <td>묵은건 몇달 전입니다. 샤롯데도 가까워서 뮤지컬관람하고 바로 오기도 좋고, 간단하게...</td>\n",
              "      <td>0</td>\n",
              "    </tr>\n",
              "  </tbody>\n",
              "</table>\n",
              "<p>3020 rows × 4 columns</p>\n",
              "</div>\n",
              "      <button class=\"colab-df-convert\" onclick=\"convertToInteractive('df-69b47608-37d6-4000-b328-84e3ec9c5c4e')\"\n",
              "              title=\"Convert this dataframe to an interactive table.\"\n",
              "              style=\"display:none;\">\n",
              "        \n",
              "  <svg xmlns=\"http://www.w3.org/2000/svg\" height=\"24px\"viewBox=\"0 0 24 24\"\n",
              "       width=\"24px\">\n",
              "    <path d=\"M0 0h24v24H0V0z\" fill=\"none\"/>\n",
              "    <path d=\"M18.56 5.44l.94 2.06.94-2.06 2.06-.94-2.06-.94-.94-2.06-.94 2.06-2.06.94zm-11 1L8.5 8.5l.94-2.06 2.06-.94-2.06-.94L8.5 2.5l-.94 2.06-2.06.94zm10 10l.94 2.06.94-2.06 2.06-.94-2.06-.94-.94-2.06-.94 2.06-2.06.94z\"/><path d=\"M17.41 7.96l-1.37-1.37c-.4-.4-.92-.59-1.43-.59-.52 0-1.04.2-1.43.59L10.3 9.45l-7.72 7.72c-.78.78-.78 2.05 0 2.83L4 21.41c.39.39.9.59 1.41.59.51 0 1.02-.2 1.41-.59l7.78-7.78 2.81-2.81c.8-.78.8-2.07 0-2.86zM5.41 20L4 18.59l7.72-7.72 1.47 1.35L5.41 20z\"/>\n",
              "  </svg>\n",
              "      </button>\n",
              "      \n",
              "  <style>\n",
              "    .colab-df-container {\n",
              "      display:flex;\n",
              "      flex-wrap:wrap;\n",
              "      gap: 12px;\n",
              "    }\n",
              "\n",
              "    .colab-df-convert {\n",
              "      background-color: #E8F0FE;\n",
              "      border: none;\n",
              "      border-radius: 50%;\n",
              "      cursor: pointer;\n",
              "      display: none;\n",
              "      fill: #1967D2;\n",
              "      height: 32px;\n",
              "      padding: 0 0 0 0;\n",
              "      width: 32px;\n",
              "    }\n",
              "\n",
              "    .colab-df-convert:hover {\n",
              "      background-color: #E2EBFA;\n",
              "      box-shadow: 0px 1px 2px rgba(60, 64, 67, 0.3), 0px 1px 3px 1px rgba(60, 64, 67, 0.15);\n",
              "      fill: #174EA6;\n",
              "    }\n",
              "\n",
              "    [theme=dark] .colab-df-convert {\n",
              "      background-color: #3B4455;\n",
              "      fill: #D2E3FC;\n",
              "    }\n",
              "\n",
              "    [theme=dark] .colab-df-convert:hover {\n",
              "      background-color: #434B5C;\n",
              "      box-shadow: 0px 1px 3px 1px rgba(0, 0, 0, 0.15);\n",
              "      filter: drop-shadow(0px 1px 2px rgba(0, 0, 0, 0.3));\n",
              "      fill: #FFFFFF;\n",
              "    }\n",
              "  </style>\n",
              "\n",
              "      <script>\n",
              "        const buttonEl =\n",
              "          document.querySelector('#df-69b47608-37d6-4000-b328-84e3ec9c5c4e button.colab-df-convert');\n",
              "        buttonEl.style.display =\n",
              "          google.colab.kernel.accessAllowed ? 'block' : 'none';\n",
              "\n",
              "        async function convertToInteractive(key) {\n",
              "          const element = document.querySelector('#df-69b47608-37d6-4000-b328-84e3ec9c5c4e');\n",
              "          const dataTable =\n",
              "            await google.colab.kernel.invokeFunction('convertToInteractive',\n",
              "                                                     [key], {});\n",
              "          if (!dataTable) return;\n",
              "\n",
              "          const docLinkHtml = 'Like what you see? Visit the ' +\n",
              "            '<a target=\"_blank\" href=https://colab.research.google.com/notebooks/data_table.ipynb>data table notebook</a>'\n",
              "            + ' to learn more about interactive tables.';\n",
              "          element.innerHTML = '';\n",
              "          dataTable['output_type'] = 'display_data';\n",
              "          await google.colab.output.renderOutput(dataTable, element);\n",
              "          const docLink = document.createElement('div');\n",
              "          docLink.innerHTML = docLinkHtml;\n",
              "          element.appendChild(docLink);\n",
              "        }\n",
              "      </script>\n",
              "    </div>\n",
              "  </div>\n",
              "  "
            ]
          },
          "metadata": {},
          "execution_count": 17
        }
      ]
    },
    {
      "cell_type": "markdown",
      "source": [
        "### 훈련/검증 데이터 분리"
      ],
      "metadata": {
        "id": "gWigriOcL33Q"
      }
    },
    {
      "cell_type": "code",
      "source": [
        "from sklearn.model_selection import train_test_split\n",
        "\n",
        "x = reviews\n",
        "y = reviews['y']\n",
        "\n",
        "x_train, x_test, y_train, y_test = train_test_split(x, y, test_size=0.25, random_state=1)"
      ],
      "metadata": {
        "id": "tmNc4hpx_g-K"
      },
      "execution_count": null,
      "outputs": []
    },
    {
      "cell_type": "code",
      "source": [
        "print('training set size:', len(x_train))\n",
        "print('testing set size:', len(x_test))"
      ],
      "metadata": {
        "colab": {
          "base_uri": "https://localhost:8080/"
        },
        "id": "S-VDsOzCAgf4",
        "outputId": "101c51ff-aa03-430e-85d3-95270dd5ed47"
      },
      "execution_count": null,
      "outputs": [
        {
          "output_type": "stream",
          "name": "stdout",
          "text": [
            "training set size: 2265\n",
            "testing set size: 755\n"
          ]
        }
      ]
    },
    {
      "cell_type": "code",
      "source": [
        "x_train"
      ],
      "metadata": {
        "colab": {
          "base_uri": "https://localhost:8080/",
          "height": 623
        },
        "id": "MRnTBnRHC-Mn",
        "outputId": "ce9f9df7-3b03-41ca-e4f7-a6e60b221330"
      },
      "execution_count": null,
      "outputs": [
        {
          "output_type": "execute_result",
          "data": {
            "text/plain": [
              "                  hotel  score  \\\n",
              "559   페어필드 바이 메리어트 서울호텔      3   \n",
              "2068             콘래드 서울      3   \n",
              "1687   나인트리 프리미어 호텔 명동2      5   \n",
              "737       글래드 강남 코엑스 센터      5   \n",
              "2415  롯데호텔 서울 이그제큐티브 타워      5   \n",
              "...                 ...    ...   \n",
              "2763       페어몬트 앰배서더 서울      5   \n",
              "905      메이 플레이스 서울 동대문      5   \n",
              "1096             해밀톤 호텔      3   \n",
              "235              호스텔 토미      5   \n",
              "1061           오클라우드 호텔      5   \n",
              "\n",
              "                                                 review  y  \n",
              "559   화장실이 오픈되어 있는 것은 알고 가서 별로 충격적이지는 않았습니다. 그런데 창호를...  0  \n",
              "2068  ['생긴 지 얼마 되지 않기 때문에 역시 깨끗하고 방도 넓은 편입니다. IFC와 연...  0  \n",
              "1687  ['서비스,청결,위치 모두 완벽했습니다 특히 방 무료 업그레이드도 시켜주시고, 전화...  1  \n",
              "737   방도 너무 좋고 깨끗해서 가족이 함께 묵기에도 너무 좋아요~ 제롬 직원님도 너무 친...  1  \n",
              "2415  낯선 곳에서 마음의 편함을 느끼기가 쉽지 않은데 이곳은 나에게 “쉼” 이란 선물 같...  1  \n",
              "...                                                 ... ..  \n",
              "2763  여의도쪽에서 바이어와 미팅때문에 페어몬트 호텔 방문했는데, 와 향기가 너무 좋더라구...  1  \n",
              "905   객실과 화장실 모두 청결하고 룸과 화장실이 생각보다 큽니다:) 심지어 트리플배드로 ...  1  \n",
              "1096  위치는 이태원역 바로앞이라 이동이 좋다 하지만 너무 낡았고 침대가 너무 불편해서 다...  0  \n",
              "235   친구랑 4박5일 서울에 놀러왓는데 되게 좋아여!! 깔끔하고 잠도잘오고 직원분들이 잘...  1  \n",
              "1061  강남역이나 교보타워사거리에서는 가장 가까운 호텔이지 않나 싶습니다.  건축한지 얼마...  1  \n",
              "\n",
              "[2265 rows x 4 columns]"
            ],
            "text/html": [
              "\n",
              "  <div id=\"df-b1d7dc6e-5f64-4e80-9c0a-c9f133ee2243\">\n",
              "    <div class=\"colab-df-container\">\n",
              "      <div>\n",
              "<style scoped>\n",
              "    .dataframe tbody tr th:only-of-type {\n",
              "        vertical-align: middle;\n",
              "    }\n",
              "\n",
              "    .dataframe tbody tr th {\n",
              "        vertical-align: top;\n",
              "    }\n",
              "\n",
              "    .dataframe thead th {\n",
              "        text-align: right;\n",
              "    }\n",
              "</style>\n",
              "<table border=\"1\" class=\"dataframe\">\n",
              "  <thead>\n",
              "    <tr style=\"text-align: right;\">\n",
              "      <th></th>\n",
              "      <th>hotel</th>\n",
              "      <th>score</th>\n",
              "      <th>review</th>\n",
              "      <th>y</th>\n",
              "    </tr>\n",
              "  </thead>\n",
              "  <tbody>\n",
              "    <tr>\n",
              "      <th>559</th>\n",
              "      <td>페어필드 바이 메리어트 서울호텔</td>\n",
              "      <td>3</td>\n",
              "      <td>화장실이 오픈되어 있는 것은 알고 가서 별로 충격적이지는 않았습니다. 그런데 창호를...</td>\n",
              "      <td>0</td>\n",
              "    </tr>\n",
              "    <tr>\n",
              "      <th>2068</th>\n",
              "      <td>콘래드 서울</td>\n",
              "      <td>3</td>\n",
              "      <td>['생긴 지 얼마 되지 않기 때문에 역시 깨끗하고 방도 넓은 편입니다. IFC와 연...</td>\n",
              "      <td>0</td>\n",
              "    </tr>\n",
              "    <tr>\n",
              "      <th>1687</th>\n",
              "      <td>나인트리 프리미어 호텔 명동2</td>\n",
              "      <td>5</td>\n",
              "      <td>['서비스,청결,위치 모두 완벽했습니다 특히 방 무료 업그레이드도 시켜주시고, 전화...</td>\n",
              "      <td>1</td>\n",
              "    </tr>\n",
              "    <tr>\n",
              "      <th>737</th>\n",
              "      <td>글래드 강남 코엑스 센터</td>\n",
              "      <td>5</td>\n",
              "      <td>방도 너무 좋고 깨끗해서 가족이 함께 묵기에도 너무 좋아요~ 제롬 직원님도 너무 친...</td>\n",
              "      <td>1</td>\n",
              "    </tr>\n",
              "    <tr>\n",
              "      <th>2415</th>\n",
              "      <td>롯데호텔 서울 이그제큐티브 타워</td>\n",
              "      <td>5</td>\n",
              "      <td>낯선 곳에서 마음의 편함을 느끼기가 쉽지 않은데 이곳은 나에게 “쉼” 이란 선물 같...</td>\n",
              "      <td>1</td>\n",
              "    </tr>\n",
              "    <tr>\n",
              "      <th>...</th>\n",
              "      <td>...</td>\n",
              "      <td>...</td>\n",
              "      <td>...</td>\n",
              "      <td>...</td>\n",
              "    </tr>\n",
              "    <tr>\n",
              "      <th>2763</th>\n",
              "      <td>페어몬트 앰배서더 서울</td>\n",
              "      <td>5</td>\n",
              "      <td>여의도쪽에서 바이어와 미팅때문에 페어몬트 호텔 방문했는데, 와 향기가 너무 좋더라구...</td>\n",
              "      <td>1</td>\n",
              "    </tr>\n",
              "    <tr>\n",
              "      <th>905</th>\n",
              "      <td>메이 플레이스 서울 동대문</td>\n",
              "      <td>5</td>\n",
              "      <td>객실과 화장실 모두 청결하고 룸과 화장실이 생각보다 큽니다:) 심지어 트리플배드로 ...</td>\n",
              "      <td>1</td>\n",
              "    </tr>\n",
              "    <tr>\n",
              "      <th>1096</th>\n",
              "      <td>해밀톤 호텔</td>\n",
              "      <td>3</td>\n",
              "      <td>위치는 이태원역 바로앞이라 이동이 좋다 하지만 너무 낡았고 침대가 너무 불편해서 다...</td>\n",
              "      <td>0</td>\n",
              "    </tr>\n",
              "    <tr>\n",
              "      <th>235</th>\n",
              "      <td>호스텔 토미</td>\n",
              "      <td>5</td>\n",
              "      <td>친구랑 4박5일 서울에 놀러왓는데 되게 좋아여!! 깔끔하고 잠도잘오고 직원분들이 잘...</td>\n",
              "      <td>1</td>\n",
              "    </tr>\n",
              "    <tr>\n",
              "      <th>1061</th>\n",
              "      <td>오클라우드 호텔</td>\n",
              "      <td>5</td>\n",
              "      <td>강남역이나 교보타워사거리에서는 가장 가까운 호텔이지 않나 싶습니다.  건축한지 얼마...</td>\n",
              "      <td>1</td>\n",
              "    </tr>\n",
              "  </tbody>\n",
              "</table>\n",
              "<p>2265 rows × 4 columns</p>\n",
              "</div>\n",
              "      <button class=\"colab-df-convert\" onclick=\"convertToInteractive('df-b1d7dc6e-5f64-4e80-9c0a-c9f133ee2243')\"\n",
              "              title=\"Convert this dataframe to an interactive table.\"\n",
              "              style=\"display:none;\">\n",
              "        \n",
              "  <svg xmlns=\"http://www.w3.org/2000/svg\" height=\"24px\"viewBox=\"0 0 24 24\"\n",
              "       width=\"24px\">\n",
              "    <path d=\"M0 0h24v24H0V0z\" fill=\"none\"/>\n",
              "    <path d=\"M18.56 5.44l.94 2.06.94-2.06 2.06-.94-2.06-.94-.94-2.06-.94 2.06-2.06.94zm-11 1L8.5 8.5l.94-2.06 2.06-.94-2.06-.94L8.5 2.5l-.94 2.06-2.06.94zm10 10l.94 2.06.94-2.06 2.06-.94-2.06-.94-.94-2.06-.94 2.06-2.06.94z\"/><path d=\"M17.41 7.96l-1.37-1.37c-.4-.4-.92-.59-1.43-.59-.52 0-1.04.2-1.43.59L10.3 9.45l-7.72 7.72c-.78.78-.78 2.05 0 2.83L4 21.41c.39.39.9.59 1.41.59.51 0 1.02-.2 1.41-.59l7.78-7.78 2.81-2.81c.8-.78.8-2.07 0-2.86zM5.41 20L4 18.59l7.72-7.72 1.47 1.35L5.41 20z\"/>\n",
              "  </svg>\n",
              "      </button>\n",
              "      \n",
              "  <style>\n",
              "    .colab-df-container {\n",
              "      display:flex;\n",
              "      flex-wrap:wrap;\n",
              "      gap: 12px;\n",
              "    }\n",
              "\n",
              "    .colab-df-convert {\n",
              "      background-color: #E8F0FE;\n",
              "      border: none;\n",
              "      border-radius: 50%;\n",
              "      cursor: pointer;\n",
              "      display: none;\n",
              "      fill: #1967D2;\n",
              "      height: 32px;\n",
              "      padding: 0 0 0 0;\n",
              "      width: 32px;\n",
              "    }\n",
              "\n",
              "    .colab-df-convert:hover {\n",
              "      background-color: #E2EBFA;\n",
              "      box-shadow: 0px 1px 2px rgba(60, 64, 67, 0.3), 0px 1px 3px 1px rgba(60, 64, 67, 0.15);\n",
              "      fill: #174EA6;\n",
              "    }\n",
              "\n",
              "    [theme=dark] .colab-df-convert {\n",
              "      background-color: #3B4455;\n",
              "      fill: #D2E3FC;\n",
              "    }\n",
              "\n",
              "    [theme=dark] .colab-df-convert:hover {\n",
              "      background-color: #434B5C;\n",
              "      box-shadow: 0px 1px 3px 1px rgba(0, 0, 0, 0.15);\n",
              "      filter: drop-shadow(0px 1px 2px rgba(0, 0, 0, 0.3));\n",
              "      fill: #FFFFFF;\n",
              "    }\n",
              "  </style>\n",
              "\n",
              "      <script>\n",
              "        const buttonEl =\n",
              "          document.querySelector('#df-b1d7dc6e-5f64-4e80-9c0a-c9f133ee2243 button.colab-df-convert');\n",
              "        buttonEl.style.display =\n",
              "          google.colab.kernel.accessAllowed ? 'block' : 'none';\n",
              "\n",
              "        async function convertToInteractive(key) {\n",
              "          const element = document.querySelector('#df-b1d7dc6e-5f64-4e80-9c0a-c9f133ee2243');\n",
              "          const dataTable =\n",
              "            await google.colab.kernel.invokeFunction('convertToInteractive',\n",
              "                                                     [key], {});\n",
              "          if (!dataTable) return;\n",
              "\n",
              "          const docLinkHtml = 'Like what you see? Visit the ' +\n",
              "            '<a target=\"_blank\" href=https://colab.research.google.com/notebooks/data_table.ipynb>data table notebook</a>'\n",
              "            + ' to learn more about interactive tables.';\n",
              "          element.innerHTML = '';\n",
              "          dataTable['output_type'] = 'display_data';\n",
              "          await google.colab.output.renderOutput(dataTable, element);\n",
              "          const docLink = document.createElement('div');\n",
              "          docLink.innerHTML = docLinkHtml;\n",
              "          element.appendChild(docLink);\n",
              "        }\n",
              "      </script>\n",
              "    </div>\n",
              "  </div>\n",
              "  "
            ]
          },
          "metadata": {},
          "execution_count": 54
        }
      ]
    },
    {
      "cell_type": "code",
      "source": [
        "x_train.to_csv('train_set.csv', encoding='utf-8-sig')\n",
        "x_test.to_csv('test_set.csv', encoding='utf-8-sig')"
      ],
      "metadata": {
        "id": "EOuBcoRBCYyr"
      },
      "execution_count": null,
      "outputs": []
    },
    {
      "cell_type": "code",
      "source": [
        "train_set = pd.read_csv('train_set.csv')\n",
        "test_set = pd.read_csv('test_set.csv')"
      ],
      "metadata": {
        "id": "8BFj8LlGDRJp"
      },
      "execution_count": null,
      "outputs": []
    },
    {
      "cell_type": "code",
      "source": [
        "# 필요없는 컬럼 제거\n",
        "train_set = train_set.drop(labels=['Unnamed: 0'], axis=1)\n",
        "test_set = test_set.drop(labels=['Unnamed: 0'], axis=1)"
      ],
      "metadata": {
        "id": "A6tcsgJxDmb-"
      },
      "execution_count": null,
      "outputs": []
    },
    {
      "cell_type": "code",
      "source": [
        "# 중복 샘플 제거\n",
        "train_set.drop_duplicates(subset=['review'], inplace=True)\n",
        "test_set.drop_duplicates(subset=['review'], inplace=True)"
      ],
      "metadata": {
        "id": "7IDYJM0YDyx4"
      },
      "execution_count": null,
      "outputs": []
    },
    {
      "cell_type": "code",
      "source": [
        "# 긍정/부정 분포도 확인\n",
        "plt.subplot(121)\n",
        "plt.title('train_set')\n",
        "train_set['y'].value_counts().plot(kind='bar')\n",
        "\n",
        "plt.subplot(122)\n",
        "plt.title('test_set')\n",
        "test_set['y'].value_counts().plot(kind='bar')"
      ],
      "metadata": {
        "colab": {
          "base_uri": "https://localhost:8080/",
          "height": 465
        },
        "id": "x-_XHKU8ECFh",
        "outputId": "d28a76af-bdcc-4163-e418-150fa5b00180"
      },
      "execution_count": null,
      "outputs": [
        {
          "output_type": "execute_result",
          "data": {
            "text/plain": [
              "<Axes: title={'center': 'test_set'}>"
            ]
          },
          "metadata": {},
          "execution_count": 69
        },
        {
          "output_type": "display_data",
          "data": {
            "text/plain": [
              "<Figure size 640x480 with 2 Axes>"
            ],
            "image/png": "[encoded data removed]"
          },
          "metadata": {}
        }
      ]
    },
    {
      "cell_type": "code",
      "source": [
        "# 한글과 공백 제외하고 모두 제거\n",
        "train_set['review'] = train_set['review'].str.replace(\"[^ㄱ-ㅎㅏ-ㅣ가-힣 ]\",\"\")\n",
        "train_set[:5]"
      ],
      "metadata": {
        "colab": {
          "base_uri": "https://localhost:8080/",
          "height": 392
        },
        "id": "asWeFzW3EUDJ",
        "outputId": "3b43a3a2-6a2e-4aec-bd66-725d0e1486b8"
      },
      "execution_count": null,
      "outputs": [
        {
          "output_type": "stream",
          "name": "stderr",
          "text": [
            "<ipython-input-71-2eac7ada82c3>:1: FutureWarning: The default value of regex will change from True to False in a future version.\n",
            "  train_set['review'] = train_set['review'].str.replace(\"[^ㄱ-ㅎㅏ-ㅣ가-힣 ]\",\"\")\n"
          ]
        },
        {
          "output_type": "execute_result",
          "data": {
            "text/plain": [
              "               hotel  score  \\\n",
              "0  페어필드 바이 메리어트 서울호텔      3   \n",
              "1             콘래드 서울      3   \n",
              "2   나인트리 프리미어 호텔 명동2      5   \n",
              "3      글래드 강남 코엑스 센터      5   \n",
              "4  롯데호텔 서울 이그제큐티브 타워      5   \n",
              "\n",
              "                                              review  y  \n",
              "0  화장실이 오픈되어 있는 것은 알고 가서 별로 충격적이지는 않았습니다 그런데 창호를 ...  0  \n",
              "1  생긴 지 얼마 되지 않기 때문에 역시 깨끗하고 방도 넓은 편입니다 와 연결되기 때문...  0  \n",
              "2  서비스청결위치 모두 완벽했습니다 특히 방 무료 업그레이드도 시켜주시고 전화로 미리 ...  1  \n",
              "3  방도 너무 좋고 깨끗해서 가족이 함께 묵기에도 너무 좋아요 제롬 직원님도 너무 친절...  1  \n",
              "4  낯선 곳에서 마음의 편함을 느끼기가 쉽지 않은데 이곳은 나에게 쉼 이란 선물 같았다...  1  "
            ],
            "text/html": [
              "\n",
              "  <div id=\"df-789debae-8c54-47d4-8522-d2870e3feb50\">\n",
              "    <div class=\"colab-df-container\">\n",
              "      <div>\n",
              "<style scoped>\n",
              "    .dataframe tbody tr th:only-of-type {\n",
              "        vertical-align: middle;\n",
              "    }\n",
              "\n",
              "    .dataframe tbody tr th {\n",
              "        vertical-align: top;\n",
              "    }\n",
              "\n",
              "    .dataframe thead th {\n",
              "        text-align: right;\n",
              "    }\n",
              "</style>\n",
              "<table border=\"1\" class=\"dataframe\">\n",
              "  <thead>\n",
              "    <tr style=\"text-align: right;\">\n",
              "      <th></th>\n",
              "      <th>hotel</th>\n",
              "      <th>score</th>\n",
              "      <th>review</th>\n",
              "      <th>y</th>\n",
              "    </tr>\n",
              "  </thead>\n",
              "  <tbody>\n",
              "    <tr>\n",
              "      <th>0</th>\n",
              "      <td>페어필드 바이 메리어트 서울호텔</td>\n",
              "      <td>3</td>\n",
              "      <td>화장실이 오픈되어 있는 것은 알고 가서 별로 충격적이지는 않았습니다 그런데 창호를 ...</td>\n",
              "      <td>0</td>\n",
              "    </tr>\n",
              "    <tr>\n",
              "      <th>1</th>\n",
              "      <td>콘래드 서울</td>\n",
              "      <td>3</td>\n",
              "      <td>생긴 지 얼마 되지 않기 때문에 역시 깨끗하고 방도 넓은 편입니다 와 연결되기 때문...</td>\n",
              "      <td>0</td>\n",
              "    </tr>\n",
              "    <tr>\n",
              "      <th>2</th>\n",
              "      <td>나인트리 프리미어 호텔 명동2</td>\n",
              "      <td>5</td>\n",
              "      <td>서비스청결위치 모두 완벽했습니다 특히 방 무료 업그레이드도 시켜주시고 전화로 미리 ...</td>\n",
              "      <td>1</td>\n",
              "    </tr>\n",
              "    <tr>\n",
              "      <th>3</th>\n",
              "      <td>글래드 강남 코엑스 센터</td>\n",
              "      <td>5</td>\n",
              "      <td>방도 너무 좋고 깨끗해서 가족이 함께 묵기에도 너무 좋아요 제롬 직원님도 너무 친절...</td>\n",
              "      <td>1</td>\n",
              "    </tr>\n",
              "    <tr>\n",
              "      <th>4</th>\n",
              "      <td>롯데호텔 서울 이그제큐티브 타워</td>\n",
              "      <td>5</td>\n",
              "      <td>낯선 곳에서 마음의 편함을 느끼기가 쉽지 않은데 이곳은 나에게 쉼 이란 선물 같았다...</td>\n",
              "      <td>1</td>\n",
              "    </tr>\n",
              "  </tbody>\n",
              "</table>\n",
              "</div>\n",
              "      <button class=\"colab-df-convert\" onclick=\"convertToInteractive('df-789debae-8c54-47d4-8522-d2870e3feb50')\"\n",
              "              title=\"Convert this dataframe to an interactive table.\"\n",
              "              style=\"display:none;\">\n",
              "        \n",
              "  <svg xmlns=\"http://www.w3.org/2000/svg\" height=\"24px\"viewBox=\"0 0 24 24\"\n",
              "       width=\"24px\">\n",
              "    <path d=\"M0 0h24v24H0V0z\" fill=\"none\"/>\n",
              "    <path d=\"M18.56 5.44l.94 2.06.94-2.06 2.06-.94-2.06-.94-.94-2.06-.94 2.06-2.06.94zm-11 1L8.5 8.5l.94-2.06 2.06-.94-2.06-.94L8.5 2.5l-.94 2.06-2.06.94zm10 10l.94 2.06.94-2.06 2.06-.94-2.06-.94-.94-2.06-.94 2.06-2.06.94z\"/><path d=\"M17.41 7.96l-1.37-1.37c-.4-.4-.92-.59-1.43-.59-.52 0-1.04.2-1.43.59L10.3 9.45l-7.72 7.72c-.78.78-.78 2.05 0 2.83L4 21.41c.39.39.9.59 1.41.59.51 0 1.02-.2 1.41-.59l7.78-7.78 2.81-2.81c.8-.78.8-2.07 0-2.86zM5.41 20L4 18.59l7.72-7.72 1.47 1.35L5.41 20z\"/>\n",
              "  </svg>\n",
              "      </button>\n",
              "      \n",
              "  <style>\n",
              "    .colab-df-container {\n",
              "      display:flex;\n",
              "      flex-wrap:wrap;\n",
              "      gap: 12px;\n",
              "    }\n",
              "\n",
              "    .colab-df-convert {\n",
              "      background-color: #E8F0FE;\n",
              "      border: none;\n",
              "      border-radius: 50%;\n",
              "      cursor: pointer;\n",
              "      display: none;\n",
              "      fill: #1967D2;\n",
              "      height: 32px;\n",
              "      padding: 0 0 0 0;\n",
              "      width: 32px;\n",
              "    }\n",
              "\n",
              "    .colab-df-convert:hover {\n",
              "      background-color: #E2EBFA;\n",
              "      box-shadow: 0px 1px 2px rgba(60, 64, 67, 0.3), 0px 1px 3px 1px rgba(60, 64, 67, 0.15);\n",
              "      fill: #174EA6;\n",
              "    }\n",
              "\n",
              "    [theme=dark] .colab-df-convert {\n",
              "      background-color: #3B4455;\n",
              "      fill: #D2E3FC;\n",
              "    }\n",
              "\n",
              "    [theme=dark] .colab-df-convert:hover {\n",
              "      background-color: #434B5C;\n",
              "      box-shadow: 0px 1px 3px 1px rgba(0, 0, 0, 0.15);\n",
              "      filter: drop-shadow(0px 1px 2px rgba(0, 0, 0, 0.3));\n",
              "      fill: #FFFFFF;\n",
              "    }\n",
              "  </style>\n",
              "\n",
              "      <script>\n",
              "        const buttonEl =\n",
              "          document.querySelector('#df-789debae-8c54-47d4-8522-d2870e3feb50 button.colab-df-convert');\n",
              "        buttonEl.style.display =\n",
              "          google.colab.kernel.accessAllowed ? 'block' : 'none';\n",
              "\n",
              "        async function convertToInteractive(key) {\n",
              "          const element = document.querySelector('#df-789debae-8c54-47d4-8522-d2870e3feb50');\n",
              "          const dataTable =\n",
              "            await google.colab.kernel.invokeFunction('convertToInteractive',\n",
              "                                                     [key], {});\n",
              "          if (!dataTable) return;\n",
              "\n",
              "          const docLinkHtml = 'Like what you see? Visit the ' +\n",
              "            '<a target=\"_blank\" href=https://colab.research.google.com/notebooks/data_table.ipynb>data table notebook</a>'\n",
              "            + ' to learn more about interactive tables.';\n",
              "          element.innerHTML = '';\n",
              "          dataTable['output_type'] = 'display_data';\n",
              "          await google.colab.output.renderOutput(dataTable, element);\n",
              "          const docLink = document.createElement('div');\n",
              "          docLink.innerHTML = docLinkHtml;\n",
              "          element.appendChild(docLink);\n",
              "        }\n",
              "      </script>\n",
              "    </div>\n",
              "  </div>\n",
              "  "
            ]
          },
          "metadata": {},
          "execution_count": 71
        }
      ]
    },
    {
      "cell_type": "code",
      "source": [
        "# 공백 제거 후 빈 값 있는지 확인\n",
        "train_set['review'] = train_set['review'].str.replace('^ +', \"\") # white space 데이터를 empty value로 변경\n",
        "train_set['review'].replace('', np.nan, inplace=True)\n",
        "print(train_set.isnull().sum())\n",
        "\n",
        "test_set['review'] = test_set['review'].str.replace(\"[^ㄱ-ㅎㅏ-ㅣ가-힣 ]\",\"\")\n",
        "test_set['review'] = test_set['review'].str.replace('^ +', \"\") # white space 데이터를 empty value로 변경\n",
        "test_set['review'].replace('', np.nan, inplace=True)\n",
        "print(test_set.isnull().sum())"
      ],
      "metadata": {
        "colab": {
          "base_uri": "https://localhost:8080/"
        },
        "id": "u4QJsKdQEtJW",
        "outputId": "80663d4c-b1bf-4137-fa4f-a430e98183a1"
      },
      "execution_count": null,
      "outputs": [
        {
          "output_type": "stream",
          "name": "stdout",
          "text": [
            "hotel     0\n",
            "score     0\n",
            "review    0\n",
            "y         0\n",
            "dtype: int64\n",
            "hotel     0\n",
            "score     0\n",
            "review    0\n",
            "y         0\n",
            "dtype: int64\n"
          ]
        },
        {
          "output_type": "stream",
          "name": "stderr",
          "text": [
            "<ipython-input-140-877a1acac7b8>:2: FutureWarning: The default value of regex will change from True to False in a future version.\n",
            "  train_set['review'] = train_set['review'].str.replace('^ +', \"\") # white space 데이터를 empty value로 변경\n",
            "<ipython-input-140-877a1acac7b8>:6: FutureWarning: The default value of regex will change from True to False in a future version.\n",
            "  test_set['review'] = test_set['review'].str.replace(\"[^ㄱ-ㅎㅏ-ㅣ가-힣 ]\",\"\")\n",
            "<ipython-input-140-877a1acac7b8>:7: FutureWarning: The default value of regex will change from True to False in a future version.\n",
            "  test_set['review'] = test_set['review'].str.replace('^ +', \"\") # white space 데이터를 empty value로 변경\n"
          ]
        }
      ]
    },
    {
      "cell_type": "markdown",
      "source": [
        "### 토큰화"
      ],
      "metadata": {
        "id": "NjbZMLaLMUsW"
      }
    },
    {
      "cell_type": "code",
      "source": [
        "# 불용어 제거\n",
        "\n",
        "stopwords = pd.read_csv(\"https://raw.githubusercontent.com/yoonkt200/FastCampusDataset/master/korean_stopwords.txt\").values.tolist()\n",
        "stopwords[:10]"
      ],
      "metadata": {
        "colab": {
          "base_uri": "https://localhost:8080/"
        },
        "id": "CZ9Kv4H1FRZR",
        "outputId": "f32e6883-62d6-4e81-9491-95c5d3c04cdc"
      },
      "execution_count": null,
      "outputs": [
        {
          "output_type": "execute_result",
          "data": {
            "text/plain": [
              "[['휴'],\n",
              " ['아이구'],\n",
              " ['아이쿠'],\n",
              " ['아이고'],\n",
              " ['어'],\n",
              " ['나'],\n",
              " ['우리'],\n",
              " ['저희'],\n",
              " ['따라'],\n",
              " ['의해']]"
            ]
          },
          "metadata": {},
          "execution_count": 75
        }
      ]
    },
    {
      "cell_type": "code",
      "source": [
        "seoul_hotel_stopwords = ['서울','서울시','호텔','숙소','리뷰','직원','방문','조식','프론트','여행','재료','사진','예약','친구','엄마','어머니','출장','날씨','코로나','오후','한국','여자친구','남자친구','위치','객실','욕실','저녁','남성','여성','대략','남편','아내','침실','패키지']\n",
        "for word in seoul_hotel_stopwords:\n",
        "  stopwords.append(word)"
      ],
      "metadata": {
        "id": "EiLpalNBFiBC"
      },
      "execution_count": null,
      "outputs": []
    },
    {
      "cell_type": "code",
      "source": [
        "okt = Okt()\n",
        "okt.morphs('서울에 있는 숙소인데도 불구하고 상태가 정말 별로입니다. 실망이네요', stem=True)"
      ],
      "metadata": {
        "colab": {
          "base_uri": "https://localhost:8080/"
        },
        "id": "UM-E71Y_FlBd",
        "outputId": "bb61e563-ebc6-456e-cc04-6d7ef5bb4784"
      },
      "execution_count": null,
      "outputs": [
        {
          "output_type": "execute_result",
          "data": {
            "text/plain": [
              "['서울',\n",
              " '에',\n",
              " '있다',\n",
              " '숙소',\n",
              " '인데',\n",
              " '도',\n",
              " '불구',\n",
              " '하고',\n",
              " '상태',\n",
              " '가',\n",
              " '정말',\n",
              " '별로',\n",
              " '이다',\n",
              " '.',\n",
              " '실망',\n",
              " '이네',\n",
              " '요']"
            ]
          },
          "metadata": {},
          "execution_count": 168
        }
      ]
    },
    {
      "cell_type": "code",
      "source": [
        "x_train = []\n",
        "for sentence in tqdm(train_set['review']):\n",
        "  tokenized_sentence = okt.morphs(sentence, stem=True) # 토큰화\n",
        "  tokenized_sentence = [word for word in tokenized_sentence if len(word)> 1] # 한글자 키워드 제거\n",
        "  stopwords_removed_sentence = [word for word in tokenized_sentence if not word in stopwords] # 불용어 제거\n",
        "  x_train.append(stopwords_removed_sentence)"
      ],
      "metadata": {
        "colab": {
          "base_uri": "https://localhost:8080/"
        },
        "id": "f9biYTYuFsZP",
        "outputId": "91a857f2-2f4a-4518-8965-2e19a1a48c81"
      },
      "execution_count": null,
      "outputs": [
        {
          "output_type": "stream",
          "name": "stderr",
          "text": [
            "100%|██████████| 2175/2175 [00:40<00:00, 53.11it/s]\n"
          ]
        }
      ]
    },
    {
      "cell_type": "code",
      "source": [
        "x_test = []\n",
        "for sentence in tqdm(test_set['review']):\n",
        "  tokenized_sentence = okt.morphs(sentence, stem=True) # 토큰화\n",
        "  tokenized_sentence = [word for word in tokenized_sentence if len(word)> 1] # 한글자 키워드 제거\n",
        "  stopwords_removed_sentence = [word for word in tokenized_sentence if not word in stopwords] # 불용어 제거\n",
        "  x_test.append(stopwords_removed_sentence)"
      ],
      "metadata": {
        "colab": {
          "base_uri": "https://localhost:8080/"
        },
        "id": "rC4iyAChKQFT",
        "outputId": "dfbc2689-c425-4c15-e189-06d2d99107e5"
      },
      "execution_count": null,
      "outputs": [
        {
          "output_type": "stream",
          "name": "stderr",
          "text": [
            "100%|██████████| 743/743 [00:13<00:00, 56.75it/s]\n"
          ]
        }
      ]
    },
    {
      "cell_type": "code",
      "source": [
        "print(x_train[:2])"
      ],
      "metadata": {
        "colab": {
          "base_uri": "https://localhost:8080/"
        },
        "id": "KDzejuVYGPiR",
        "outputId": "965d3d5f-8555-413d-a22e-844375858381"
      },
      "execution_count": null,
      "outputs": [
        {
          "output_type": "stream",
          "name": "stdout",
          "text": [
            "[['화장실', '오픈', '되어다', '있다', '가다', '별로', '충격', '이지', '않다', '그런데', '창호', '저렴하다', '으로', '시공', '하다', '소음', '심하다', '창가', '앉다', '차갑다', '외풍', '그대로', '느껴지다', '그나마', '철길', '소음', '덜다', '차도', '시티', '뷰은', '차량', '소리', '시달리다', '아주', '작고', '아코르', '저가', '이비스', '보다도', '훨씬', '작다', '차라리', '샤워', '부스', '크기', '이고', '부분', '늘리다', '나다', '하다', '혼자', '하루', '자고', '가기', '괜찮다', '소음', '때문', '괜찮다', '지내다', '좁다', '답답하다', '그래도', '좋다', '인지', '중국인', '단체', '있다', '아침', '일찍', '체크아웃', '하다', '인데', '단체', '시간', '치다', '엘베', '타다', '힘들다'], ['생기다', '지다', '얼마', '되다', '않다', '때문', '역시', '깨끗하다', '방도', '넓다', '편입', '오다', '연결', '되다', '때문', '편리하다', '다만', '부페', '가격', '비다', '다소', '수준', '떨어지다', '여의도', '있다', '때문', '아니다', '이상', '추천', '하고', '싶다', '않다']]\n"
          ]
        }
      ]
    },
    {
      "cell_type": "markdown",
      "source": [
        "### 정수 인코딩"
      ],
      "metadata": {
        "id": "V6Ukff4pMdEJ"
      }
    },
    {
      "cell_type": "code",
      "source": [
        "tokenizer = Tokenizer()\n",
        "tokenizer.fit_on_texts(x_train)"
      ],
      "metadata": {
        "id": "Ua5KMgKtGePZ"
      },
      "execution_count": null,
      "outputs": []
    },
    {
      "cell_type": "code",
      "source": [
        "word_index = tokenizer.word_index\n",
        "\n",
        "subset = list(word_index.items())[:5]\n",
        "\n",
        "print(subset)"
      ],
      "metadata": {
        "colab": {
          "base_uri": "https://localhost:8080/"
        },
        "id": "_QLnv1sQHXRF",
        "outputId": "bef2f8ae-f480-473f-dafc-f720cb918f28"
      },
      "execution_count": null,
      "outputs": [
        {
          "output_type": "stream",
          "name": "stdout",
          "text": [
            "[('하다', 1), ('있다', 2), ('좋다', 3), ('이다', 4), ('에서', 5)]\n"
          ]
        }
      ]
    },
    {
      "cell_type": "code",
      "source": [
        "threshold = 3\n",
        "total_cnt = len(tokenizer.word_index) # 단어의 수\n",
        "rare_cnt = 0\n",
        "total_freq = 0 # 훈련 데이터의 전체 단어 빈도수 총합\n",
        "rare_freq = 0 # 등장 빈도수가 3보다 작은 단어의 등장 빈도수 총합\n",
        "\n",
        "# 단어와 빈도수 쌍으로 get\n",
        "for key, value in tokenizer.word_counts.items():\n",
        "  total_freq = total_freq + value\n",
        "\n",
        "  # 단어 등장 빈도수 3보다 작으면\n",
        "  if(value < threshold):\n",
        "    rare_cnt += 1\n",
        "    rare_freq = rare_freq + value\n",
        "\n",
        "print('단어 집합(vocabulary)의 크기 :',total_cnt)\n",
        "print('등장 빈도가 %s번 이하인 희귀 단어의 수: %s'%(threshold - 1, rare_cnt))\n",
        "print(\"단어 집합에서 희귀 단어의 비율:\", (rare_cnt / total_cnt)*100)\n",
        "print(\"전체 등장 빈도에서 희귀 단어 등장 빈도 비율:\", (rare_freq / total_freq)*100)\n"
      ],
      "metadata": {
        "colab": {
          "base_uri": "https://localhost:8080/"
        },
        "id": "Ew1bZpQzHY6o",
        "outputId": "c11071eb-27df-48b5-bb44-d2a826e6c16f"
      },
      "execution_count": null,
      "outputs": [
        {
          "output_type": "stream",
          "name": "stdout",
          "text": [
            "단어 집합(vocabulary)의 크기 : 7953\n",
            "등장 빈도가 2번 이하인 희귀 단어의 수: 4579\n",
            "단어 집합에서 희귀 단어의 비율: 57.57575757575758\n",
            "전체 등장 빈도에서 희귀 단어 등장 빈도 비율: 5.133769777305513\n"
          ]
        }
      ]
    },
    {
      "cell_type": "code",
      "source": [
        "# 전체 단어 개수 중 빈도수 3미만인 단어 제거\n",
        "# 0번 패딩 토큰 고려하여 +1\n",
        "vocab_size = total_cnt - rare_cnt + 1\n",
        "print('단어 집합의 크기:', vocab_size)"
      ],
      "metadata": {
        "colab": {
          "base_uri": "https://localhost:8080/"
        },
        "id": "4W-jUQIJIJmv",
        "outputId": "253d191a-fdb6-44d0-8ad6-3fd3721ecfd2"
      },
      "execution_count": null,
      "outputs": [
        {
          "output_type": "stream",
          "name": "stdout",
          "text": [
            "단어 집합의 크기: 3375\n"
          ]
        }
      ]
    },
    {
      "cell_type": "code",
      "source": [
        "# 텍스트 시퀀스를 정수 시퀀스로 변환\n",
        "tokenizer = Tokenizer(vocab_size)\n",
        "tokenizer.fit_on_texts(x_train)\n",
        "x_train = tokenizer.texts_to_sequences(x_train)\n",
        "x_test = tokenizer.texts_to_sequences(x_test)"
      ],
      "metadata": {
        "id": "CS6wyJktIXcW"
      },
      "execution_count": null,
      "outputs": []
    },
    {
      "cell_type": "code",
      "source": [
        "print(x_train[:2])"
      ],
      "metadata": {
        "colab": {
          "base_uri": "https://localhost:8080/"
        },
        "id": "EPTFLcysImUM",
        "outputId": "87265946-7984-44a3-c680-b25943af3d29"
      },
      "execution_count": null,
      "outputs": [
        {
          "output_type": "stream",
          "name": "stdout",
          "text": [
            "[[69, 479, 25, 2, 13, 227, 1596, 945, 6, 744, 127, 10, 1, 232, 521, 1493, 365, 797, 2093, 446, 522, 1392, 232, 2393, 2774, 470, 875, 182, 29, 523, 1033, 2094, 1146, 372, 46, 1294, 139, 2394, 228, 141, 197, 2775, 172, 1, 327, 155, 660, 480, 89, 232, 42, 89, 198, 261, 767, 426, 3, 307, 1597, 1598, 2, 31, 308, 142, 1, 150, 1598, 28, 946, 1599, 496, 358], [637, 275, 798, 11, 6, 42, 316, 22, 309, 79, 947, 15, 296, 11, 42, 80, 344, 876, 33, 286, 661, 262, 217, 459, 2, 42, 48, 173, 59, 20, 38, 6]]\n"
          ]
        }
      ]
    },
    {
      "cell_type": "code",
      "source": [
        "print(x_test[:2])"
      ],
      "metadata": {
        "colab": {
          "base_uri": "https://localhost:8080/"
        },
        "id": "-Wa3QqhNKX77",
        "outputId": "e19d19b7-7b01-4c81-b6ff-4625de5460c6"
      },
      "execution_count": null,
      "outputs": [
        {
          "output_type": "stream",
          "name": "stdout",
          "text": [
            "[[40, 5, 669, 1, 360, 933, 248, 40, 161, 19, 2, 48, 590, 1056, 4, 509, 430, 54, 2, 28, 94, 2826, 3, 9, 14, 344, 328, 42, 2158, 514, 669, 198, 243, 4], [509, 71, 175, 165, 1, 4, 119, 360, 87, 1976, 908, 2672, 1209, 10, 872, 11, 76, 1162, 1, 2, 42, 4, 12, 132, 5, 388, 359, 1, 225, 274, 359, 18, 202, 298, 298, 263, 11, 1043, 298, 140, 12, 92, 66, 1152, 2827, 75, 1, 18, 791, 50, 12, 10, 1, 183, 1453, 921, 42, 166, 342, 1539, 1171, 104, 481, 10, 155, 873, 750, 119, 1, 894, 1, 103, 41, 1539, 1171, 166, 342, 346, 750, 2, 1115, 13, 2, 12, 739, 41, 928, 723, 3080, 10, 989, 11, 723, 34, 139, 69, 13, 2, 404, 32, 2, 1286, 1500, 2715, 21, 1454, 1133, 12, 66, 243, 231, 982, 658, 1283, 2591, 2, 12, 739, 322, 5, 377, 1850, 1298, 2449, 646, 827, 11, 204, 2706, 2, 1329, 90, 4, 308, 5, 182, 493, 3, 268, 41, 1482, 11, 2738, 2, 182, 173, 1177, 184, 12, 249, 1887, 182, 190, 2399, 182, 4, 382, 12, 542, 5, 120, 422, 2]]\n"
          ]
        }
      ]
    },
    {
      "cell_type": "code",
      "source": [
        "y_train = np.array(train_set['y'])\n",
        "y_test = np.array(test_set['y'])"
      ],
      "metadata": {
        "id": "LVdJLNrKIoMz"
      },
      "execution_count": null,
      "outputs": []
    },
    {
      "cell_type": "code",
      "source": [
        "# 빈 샘플 제거\n",
        "drop_train = [index for index, sentence in enumerate(x_train) if len(sentence) < 1]\n",
        "drop_test = [index for index, sentence in enumerate(x_test) if len(sentence) < 1]"
      ],
      "metadata": {
        "id": "zfG-FhMVI0VF"
      },
      "execution_count": null,
      "outputs": []
    },
    {
      "cell_type": "code",
      "source": [
        "x_train = np.delete(x_train, drop_train, axis=0)\n",
        "y_train = np.delete(y_train, drop_train, axis=0)\n",
        "\n",
        "x_test = np.delete(x_test, drop_train, axis=0)\n",
        "y_test = np.delete(y_test, drop_train, axis=0)\n",
        "\n",
        "print(len(x_train))\n",
        "print(len(y_train))"
      ],
      "metadata": {
        "colab": {
          "base_uri": "https://localhost:8080/"
        },
        "id": "HqJ3imCNI7fu",
        "outputId": "401da125-ee90-4550-d945-959ec5c64531"
      },
      "execution_count": null,
      "outputs": [
        {
          "output_type": "stream",
          "name": "stdout",
          "text": [
            "2175\n",
            "2175\n"
          ]
        },
        {
          "output_type": "stream",
          "name": "stderr",
          "text": [
            "/usr/local/lib/python3.10/dist-packages/numpy/lib/function_base.py:5030: VisibleDeprecationWarning: Creating an ndarray from ragged nested sequences (which is a list-or-tuple of lists-or-tuples-or ndarrays with different lengths or shapes) is deprecated. If you meant to do this, you must specify 'dtype=object' when creating the ndarray.\n",
            "  arr = asarray(arr)\n"
          ]
        }
      ]
    },
    {
      "cell_type": "markdown",
      "source": [
        "### 패딩"
      ],
      "metadata": {
        "id": "uJnGG3gbMkRw"
      }
    },
    {
      "cell_type": "code",
      "source": [
        "print('리뷰의 최대 길이 :',max(len(review) for review in x_train))\n",
        "print('리뷰의 평균 길이 :',sum(map(len, x_train))/len(x_train))\n",
        "\n",
        "plt.hist([len(review) for review in x_train], bins=50)\n",
        "plt.xlabel('length of samples')\n",
        "plt.ylabel('number of samples')\n",
        "plt.show()"
      ],
      "metadata": {
        "colab": {
          "base_uri": "https://localhost:8080/",
          "height": 485
        },
        "id": "IEg006dJJABz",
        "outputId": "292f2033-f9da-45e2-e1f1-6943ca574109"
      },
      "execution_count": null,
      "outputs": [
        {
          "output_type": "stream",
          "name": "stdout",
          "text": [
            "리뷰의 최대 길이 : 228\n",
            "리뷰의 평균 길이 : 48.43586206896552\n"
          ]
        },
        {
          "output_type": "display_data",
          "data": {
            "text/plain": [
              "<Figure size 640x480 with 1 Axes>"
            ],
            "image/png": "[encoded data removed]"
          },
          "metadata": {}
        }
      ]
    },
    {
      "cell_type": "code",
      "source": [
        "def below_threshold_len(max_len, nested_list):\n",
        "  count = 0\n",
        "  for sentence in nested_list:\n",
        "    if(len(sentence) <= max_len):\n",
        "        count = count + 1\n",
        "  print('전체 샘플 중 길이가 %s 이하인 샘플의 비율: %s'%(max_len, (count / len(nested_list))*100))\n",
        "\n",
        "max_len = 150\n",
        "below_threshold_len(max_len, x_train)"
      ],
      "metadata": {
        "colab": {
          "base_uri": "https://localhost:8080/"
        },
        "id": "OtkvAuCHJHA-",
        "outputId": "cdba637b-09c5-45ff-9267-dfb6f365b700"
      },
      "execution_count": null,
      "outputs": [
        {
          "output_type": "stream",
          "name": "stdout",
          "text": [
            "전체 샘플 중 길이가 150 이하인 샘플의 비율: 96.45977011494253\n"
          ]
        }
      ]
    },
    {
      "cell_type": "code",
      "source": [
        "x_train = pad_sequences(x_train, maxlen=max_len)\n",
        "x_test = pad_sequences(x_test, maxlen=max_len)"
      ],
      "metadata": {
        "id": "ufTan1dOJL0q"
      },
      "execution_count": null,
      "outputs": []
    },
    {
      "cell_type": "markdown",
      "source": [
        "## **LSTM**"
      ],
      "metadata": {
        "id": "fZ-suKDKMoS6"
      }
    },
    {
      "cell_type": "code",
      "source": [
        "from tensorflow.keras.layers import Embedding, Dense, LSTM\n",
        "from tensorflow.keras.models import Sequential\n",
        "from tensorflow.keras.models import load_model\n",
        "from tensorflow.keras.callbacks import EarlyStopping, ModelCheckpoint\n",
        "\n",
        "embedding_dim = 100\n",
        "hidden_units = 128\n",
        "\n",
        "model = Sequential()\n",
        "model.add(Embedding(vocab_size, embedding_dim))\n",
        "model.add(LSTM(hidden_units))\n",
        "model.add(Dense(1, activation='sigmoid'))\n",
        "\n",
        "es = EarlyStopping(monitor='val_loss', mode='min', verbose=1, patience=4)\n",
        "mc = ModelCheckpoint('best_model.h5', monitor='val_acc', mode='max', verbose=1, save_best_only=True)\n",
        "\n",
        "model.compile(optimizer='rmsprop', loss='binary_crossentropy', metrics=['acc'])\n",
        "history = model.fit(x_train, y_train, epochs=15, callbacks=[es, mc], batch_size=64, validation_split=0.2)"
      ],
      "metadata": {
        "colab": {
          "base_uri": "https://localhost:8080/"
        },
        "id": "weMt4c98JarW",
        "outputId": "ba566f2c-3ffa-4583-932c-348fef7d0393"
      },
      "execution_count": null,
      "outputs": [
        {
          "output_type": "stream",
          "name": "stdout",
          "text": [
            "Epoch 1/15\n",
            "28/28 [==============================] - ETA: 0s - loss: 0.6540 - acc: 0.5994\n",
            "Epoch 1: val_acc improved from -inf to 0.65057, saving model to best_model.h5\n",
            "28/28 [==============================] - 11s 302ms/step - loss: 0.6540 - acc: 0.5994 - val_loss: 0.5732 - val_acc: 0.6506\n",
            "Epoch 2/15\n",
            "28/28 [==============================] - ETA: 0s - loss: 0.4645 - acc: 0.8034\n",
            "Epoch 2: val_acc improved from 0.65057 to 0.79310, saving model to best_model.h5\n",
            "28/28 [==============================] - 7s 268ms/step - loss: 0.4645 - acc: 0.8034 - val_loss: 0.4425 - val_acc: 0.7931\n",
            "Epoch 3/15\n",
            "28/28 [==============================] - ETA: 0s - loss: 0.3270 - acc: 0.8747\n",
            "Epoch 3: val_acc improved from 0.79310 to 0.89195, saving model to best_model.h5\n",
            "28/28 [==============================] - 6s 229ms/step - loss: 0.3270 - acc: 0.8747 - val_loss: 0.2908 - val_acc: 0.8920\n",
            "Epoch 4/15\n",
            "28/28 [==============================] - ETA: 0s - loss: 0.2294 - acc: 0.9144\n",
            "Epoch 4: val_acc did not improve from 0.89195\n",
            "28/28 [==============================] - 7s 255ms/step - loss: 0.2294 - acc: 0.9144 - val_loss: 1.8139 - val_acc: 0.4966\n",
            "Epoch 5/15\n",
            "28/28 [==============================] - ETA: 0s - loss: 0.2202 - acc: 0.9305\n",
            "Epoch 5: val_acc did not improve from 0.89195\n",
            "28/28 [==============================] - 6s 228ms/step - loss: 0.2202 - acc: 0.9305 - val_loss: 0.3099 - val_acc: 0.8690\n",
            "Epoch 6/15\n",
            "28/28 [==============================] - ETA: 0s - loss: 0.1306 - acc: 0.9615\n",
            "Epoch 6: val_acc did not improve from 0.89195\n",
            "28/28 [==============================] - 7s 255ms/step - loss: 0.1306 - acc: 0.9615 - val_loss: 0.5055 - val_acc: 0.8644\n",
            "Epoch 7/15\n",
            "28/28 [==============================] - ETA: 0s - loss: 0.1102 - acc: 0.9626\n",
            "Epoch 7: val_acc did not improve from 0.89195\n",
            "28/28 [==============================] - 6s 227ms/step - loss: 0.1102 - acc: 0.9626 - val_loss: 0.3364 - val_acc: 0.8897\n",
            "Epoch 7: early stopping\n"
          ]
        }
      ]
    },
    {
      "cell_type": "code",
      "source": [
        "loaded_model = load_model('best_model.h5')\n",
        "print(\"\\n 테스트 정확도: %.4f\" % (loaded_model.evaluate(x_test, y_test)[1]))"
      ],
      "metadata": {
        "colab": {
          "base_uri": "https://localhost:8080/"
        },
        "id": "FCrSFfKZJgol",
        "outputId": "08f1dac5-da7d-4855-c3aa-4c386f9bd911"
      },
      "execution_count": null,
      "outputs": [
        {
          "output_type": "stream",
          "name": "stdout",
          "text": [
            "24/24 [==============================] - 2s 56ms/step - loss: 0.3008 - acc: 0.8627\n",
            "\n",
            " 테스트 정확도: 0.8627\n"
          ]
        }
      ]
    },
    {
      "cell_type": "code",
      "source": [
        "# 토크나이저 파일로 저장 후 로드\n",
        "with open('tokenizer.pickle', 'wb') as handle:\n",
        "     pickle.dump(tokenizer, handle)\n",
        "\n",
        "with open('tokenizer.pickle', 'rb') as handle:\n",
        "    tokenizer = pickle.load(handle)"
      ],
      "metadata": {
        "id": "rBe70qC0Jzey"
      },
      "execution_count": null,
      "outputs": []
    },
    {
      "cell_type": "markdown",
      "source": [
        "## **리뷰 예측**"
      ],
      "metadata": {
        "id": "xqJQyJywM1Po"
      }
    },
    {
      "cell_type": "code",
      "source": [
        "def sentiment_predict(new_sentence):\n",
        "  new_sentence = re.sub(r'[^ㄱ-ㅎㅏ-ㅣ가-힣 ]','', new_sentence)\n",
        "  new_sentence = okt.morphs(new_sentence, stem=True) # 토큰화\n",
        "  new_sentence = [word for word in new_sentence if not word in stopwords] # 불용어 제거\n",
        "  encoded = tokenizer.texts_to_sequences([new_sentence]) # 정수 인코딩\n",
        "  pad_new = pad_sequences(encoded, maxlen = max_len) # 패딩\n",
        "  score = float(loaded_model.predict(pad_new)) # 예측\n",
        "  if(score > 0.5):\n",
        "    print(\"{:.2f}% 확률로 긍정 리뷰입니다.\\n\".format(score * 100))\n",
        "  else:\n",
        "    print(\"{:.2f}% 확률로 부정 리뷰입니다.\\n\".format((1 - score) * 100))"
      ],
      "metadata": {
        "id": "4g_DipH1Jz5n"
      },
      "execution_count": null,
      "outputs": []
    },
    {
      "cell_type": "code",
      "source": [
        "sentiment_predict('너무 별로에요')"
      ],
      "metadata": {
        "colab": {
          "base_uri": "https://localhost:8080/"
        },
        "id": "B7CI4pHtKIDq",
        "outputId": "fea05f49-4363-4a06-aef7-b446f28d9bf1"
      },
      "execution_count": null,
      "outputs": [
        {
          "output_type": "stream",
          "name": "stdout",
          "text": [
            "1/1 [==============================] - 0s 318ms/step\n",
            "66.60% 확률로 부정 리뷰입니다.\n",
            "\n"
          ]
        }
      ]
    },
    {
      "cell_type": "code",
      "source": [
        "sentiment_predict('최고에요 다시 오고 싶어요')"
      ],
      "metadata": {
        "colab": {
          "base_uri": "https://localhost:8080/"
        },
        "id": "73URbsEZLNuj",
        "outputId": "88bbd7c2-3e50-447c-ddb6-60bba6368b4a"
      },
      "execution_count": null,
      "outputs": [
        {
          "output_type": "stream",
          "name": "stdout",
          "text": [
            "1/1 [==============================] - 0s 27ms/step\n",
            "83.03% 확률로 긍정 리뷰입니다.\n",
            "\n"
          ]
        }
      ]
    },
    {
      "cell_type": "code",
      "source": [
        "sentiment_predict('서울호텔인데도 불구하고 별로네요. 서비스가 엉망이에요')"
      ],
      "metadata": {
        "colab": {
          "base_uri": "https://localhost:8080/"
        },
        "id": "ACymkftQLZ5g",
        "outputId": "003fe2ea-40e1-43f6-fd0d-2d1e342a5b0c"
      },
      "execution_count": null,
      "outputs": [
        {
          "output_type": "stream",
          "name": "stdout",
          "text": [
            "1/1 [==============================] - 0s 24ms/step\n",
            "79.43% 확률로 부정 리뷰입니다.\n",
            "\n"
          ]
        }
      ]
    }
  ]
}