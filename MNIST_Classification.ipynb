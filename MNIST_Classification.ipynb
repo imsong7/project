{
 "cells": [
  {
   "cell_type": "code",
   "execution_count": 1,
   "id": "6bea6cb1",
   "metadata": {
    "_cell_guid": "b1076dfc-b9ad-4769-8c92-a6c4dae69d19",
    "_uuid": "8f2839f25d086af736a60e9eeb907d3b93b6e0e5",
    "execution": {
     "iopub.execute_input": "2024-04-04T10:47:03.720713Z",
     "iopub.status.busy": "2024-04-04T10:47:03.720360Z",
     "iopub.status.idle": "2024-04-04T10:47:11.284633Z",
     "shell.execute_reply": "2024-04-04T10:47:11.283709Z"
    },
    "papermill": {
     "duration": 7.574684,
     "end_time": "2024-04-04T10:47:11.286781",
     "exception": false,
     "start_time": "2024-04-04T10:47:03.712097",
     "status": "completed"
    },
    "tags": []
   },
   "outputs": [
    {
     "data": {
      "text/plain": [
       "<torch._C.Generator at 0x7f7a5a3fd290>"
      ]
     },
     "execution_count": 1,
     "metadata": {},
     "output_type": "execute_result"
    }
   ],
   "source": [
    "import numpy as np \n",
    "import pandas as pd\n",
    "import matplotlib.pyplot as plt\n",
    "import random\n",
    "import os\n",
    "import torch\n",
    "import torch.nn as nn\n",
    "import torchvision\n",
    "import torchvision.transforms as transforms\n",
    "from torch.utils.data import Dataset, DataLoader, TensorDataset\n",
    "\n",
    "device = torch.device(\"cuda\" if torch.cuda.is_available() else \"cpu\")\n",
    "torch.manual_seed(777) # 랜덤 시드 고정"
   ]
  },
  {
   "cell_type": "code",
   "execution_count": 2,
   "id": "91f9633c",
   "metadata": {
    "execution": {
     "iopub.execute_input": "2024-04-04T10:47:11.303166Z",
     "iopub.status.busy": "2024-04-04T10:47:11.301871Z",
     "iopub.status.idle": "2024-04-04T10:47:17.600809Z",
     "shell.execute_reply": "2024-04-04T10:47:17.599910Z"
    },
    "papermill": {
     "duration": 6.309471,
     "end_time": "2024-04-04T10:47:17.603220",
     "exception": false,
     "start_time": "2024-04-04T10:47:11.293749",
     "status": "completed"
    },
    "tags": []
   },
   "outputs": [
    {
     "data": {
      "text/html": [
       "<div>\n",
       "<style scoped>\n",
       "    .dataframe tbody tr th:only-of-type {\n",
       "        vertical-align: middle;\n",
       "    }\n",
       "\n",
       "    .dataframe tbody tr th {\n",
       "        vertical-align: top;\n",
       "    }\n",
       "\n",
       "    .dataframe thead th {\n",
       "        text-align: right;\n",
       "    }\n",
       "</style>\n",
       "<table border=\"1\" class=\"dataframe\">\n",
       "  <thead>\n",
       "    <tr style=\"text-align: right;\">\n",
       "      <th></th>\n",
       "      <th>label</th>\n",
       "      <th>pixel0</th>\n",
       "      <th>pixel1</th>\n",
       "      <th>pixel2</th>\n",
       "      <th>pixel3</th>\n",
       "      <th>pixel4</th>\n",
       "      <th>pixel5</th>\n",
       "      <th>pixel6</th>\n",
       "      <th>pixel7</th>\n",
       "      <th>pixel8</th>\n",
       "      <th>...</th>\n",
       "      <th>pixel774</th>\n",
       "      <th>pixel775</th>\n",
       "      <th>pixel776</th>\n",
       "      <th>pixel777</th>\n",
       "      <th>pixel778</th>\n",
       "      <th>pixel779</th>\n",
       "      <th>pixel780</th>\n",
       "      <th>pixel781</th>\n",
       "      <th>pixel782</th>\n",
       "      <th>pixel783</th>\n",
       "    </tr>\n",
       "  </thead>\n",
       "  <tbody>\n",
       "    <tr>\n",
       "      <th>0</th>\n",
       "      <td>1.0</td>\n",
       "      <td>0.0</td>\n",
       "      <td>0.0</td>\n",
       "      <td>0.0</td>\n",
       "      <td>0.0</td>\n",
       "      <td>0.0</td>\n",
       "      <td>0.0</td>\n",
       "      <td>0.0</td>\n",
       "      <td>0.0</td>\n",
       "      <td>0.0</td>\n",
       "      <td>...</td>\n",
       "      <td>0.0</td>\n",
       "      <td>0.0</td>\n",
       "      <td>0.0</td>\n",
       "      <td>0.0</td>\n",
       "      <td>0.0</td>\n",
       "      <td>0.0</td>\n",
       "      <td>0.0</td>\n",
       "      <td>0.0</td>\n",
       "      <td>0.0</td>\n",
       "      <td>0.0</td>\n",
       "    </tr>\n",
       "    <tr>\n",
       "      <th>1</th>\n",
       "      <td>0.0</td>\n",
       "      <td>0.0</td>\n",
       "      <td>0.0</td>\n",
       "      <td>0.0</td>\n",
       "      <td>0.0</td>\n",
       "      <td>0.0</td>\n",
       "      <td>0.0</td>\n",
       "      <td>0.0</td>\n",
       "      <td>0.0</td>\n",
       "      <td>0.0</td>\n",
       "      <td>...</td>\n",
       "      <td>0.0</td>\n",
       "      <td>0.0</td>\n",
       "      <td>0.0</td>\n",
       "      <td>0.0</td>\n",
       "      <td>0.0</td>\n",
       "      <td>0.0</td>\n",
       "      <td>0.0</td>\n",
       "      <td>0.0</td>\n",
       "      <td>0.0</td>\n",
       "      <td>0.0</td>\n",
       "    </tr>\n",
       "    <tr>\n",
       "      <th>2</th>\n",
       "      <td>1.0</td>\n",
       "      <td>0.0</td>\n",
       "      <td>0.0</td>\n",
       "      <td>0.0</td>\n",
       "      <td>0.0</td>\n",
       "      <td>0.0</td>\n",
       "      <td>0.0</td>\n",
       "      <td>0.0</td>\n",
       "      <td>0.0</td>\n",
       "      <td>0.0</td>\n",
       "      <td>...</td>\n",
       "      <td>0.0</td>\n",
       "      <td>0.0</td>\n",
       "      <td>0.0</td>\n",
       "      <td>0.0</td>\n",
       "      <td>0.0</td>\n",
       "      <td>0.0</td>\n",
       "      <td>0.0</td>\n",
       "      <td>0.0</td>\n",
       "      <td>0.0</td>\n",
       "      <td>0.0</td>\n",
       "    </tr>\n",
       "    <tr>\n",
       "      <th>3</th>\n",
       "      <td>4.0</td>\n",
       "      <td>0.0</td>\n",
       "      <td>0.0</td>\n",
       "      <td>0.0</td>\n",
       "      <td>0.0</td>\n",
       "      <td>0.0</td>\n",
       "      <td>0.0</td>\n",
       "      <td>0.0</td>\n",
       "      <td>0.0</td>\n",
       "      <td>0.0</td>\n",
       "      <td>...</td>\n",
       "      <td>0.0</td>\n",
       "      <td>0.0</td>\n",
       "      <td>0.0</td>\n",
       "      <td>0.0</td>\n",
       "      <td>0.0</td>\n",
       "      <td>0.0</td>\n",
       "      <td>0.0</td>\n",
       "      <td>0.0</td>\n",
       "      <td>0.0</td>\n",
       "      <td>0.0</td>\n",
       "    </tr>\n",
       "    <tr>\n",
       "      <th>4</th>\n",
       "      <td>0.0</td>\n",
       "      <td>0.0</td>\n",
       "      <td>0.0</td>\n",
       "      <td>0.0</td>\n",
       "      <td>0.0</td>\n",
       "      <td>0.0</td>\n",
       "      <td>0.0</td>\n",
       "      <td>0.0</td>\n",
       "      <td>0.0</td>\n",
       "      <td>0.0</td>\n",
       "      <td>...</td>\n",
       "      <td>0.0</td>\n",
       "      <td>0.0</td>\n",
       "      <td>0.0</td>\n",
       "      <td>0.0</td>\n",
       "      <td>0.0</td>\n",
       "      <td>0.0</td>\n",
       "      <td>0.0</td>\n",
       "      <td>0.0</td>\n",
       "      <td>0.0</td>\n",
       "      <td>0.0</td>\n",
       "    </tr>\n",
       "    <tr>\n",
       "      <th>...</th>\n",
       "      <td>...</td>\n",
       "      <td>...</td>\n",
       "      <td>...</td>\n",
       "      <td>...</td>\n",
       "      <td>...</td>\n",
       "      <td>...</td>\n",
       "      <td>...</td>\n",
       "      <td>...</td>\n",
       "      <td>...</td>\n",
       "      <td>...</td>\n",
       "      <td>...</td>\n",
       "      <td>...</td>\n",
       "      <td>...</td>\n",
       "      <td>...</td>\n",
       "      <td>...</td>\n",
       "      <td>...</td>\n",
       "      <td>...</td>\n",
       "      <td>...</td>\n",
       "      <td>...</td>\n",
       "      <td>...</td>\n",
       "      <td>...</td>\n",
       "    </tr>\n",
       "    <tr>\n",
       "      <th>41995</th>\n",
       "      <td>0.0</td>\n",
       "      <td>0.0</td>\n",
       "      <td>0.0</td>\n",
       "      <td>0.0</td>\n",
       "      <td>0.0</td>\n",
       "      <td>0.0</td>\n",
       "      <td>0.0</td>\n",
       "      <td>0.0</td>\n",
       "      <td>0.0</td>\n",
       "      <td>0.0</td>\n",
       "      <td>...</td>\n",
       "      <td>0.0</td>\n",
       "      <td>0.0</td>\n",
       "      <td>0.0</td>\n",
       "      <td>0.0</td>\n",
       "      <td>0.0</td>\n",
       "      <td>0.0</td>\n",
       "      <td>0.0</td>\n",
       "      <td>0.0</td>\n",
       "      <td>0.0</td>\n",
       "      <td>0.0</td>\n",
       "    </tr>\n",
       "    <tr>\n",
       "      <th>41996</th>\n",
       "      <td>1.0</td>\n",
       "      <td>0.0</td>\n",
       "      <td>0.0</td>\n",
       "      <td>0.0</td>\n",
       "      <td>0.0</td>\n",
       "      <td>0.0</td>\n",
       "      <td>0.0</td>\n",
       "      <td>0.0</td>\n",
       "      <td>0.0</td>\n",
       "      <td>0.0</td>\n",
       "      <td>...</td>\n",
       "      <td>0.0</td>\n",
       "      <td>0.0</td>\n",
       "      <td>0.0</td>\n",
       "      <td>0.0</td>\n",
       "      <td>0.0</td>\n",
       "      <td>0.0</td>\n",
       "      <td>0.0</td>\n",
       "      <td>0.0</td>\n",
       "      <td>0.0</td>\n",
       "      <td>0.0</td>\n",
       "    </tr>\n",
       "    <tr>\n",
       "      <th>41997</th>\n",
       "      <td>7.0</td>\n",
       "      <td>0.0</td>\n",
       "      <td>0.0</td>\n",
       "      <td>0.0</td>\n",
       "      <td>0.0</td>\n",
       "      <td>0.0</td>\n",
       "      <td>0.0</td>\n",
       "      <td>0.0</td>\n",
       "      <td>0.0</td>\n",
       "      <td>0.0</td>\n",
       "      <td>...</td>\n",
       "      <td>0.0</td>\n",
       "      <td>0.0</td>\n",
       "      <td>0.0</td>\n",
       "      <td>0.0</td>\n",
       "      <td>0.0</td>\n",
       "      <td>0.0</td>\n",
       "      <td>0.0</td>\n",
       "      <td>0.0</td>\n",
       "      <td>0.0</td>\n",
       "      <td>0.0</td>\n",
       "    </tr>\n",
       "    <tr>\n",
       "      <th>41998</th>\n",
       "      <td>6.0</td>\n",
       "      <td>0.0</td>\n",
       "      <td>0.0</td>\n",
       "      <td>0.0</td>\n",
       "      <td>0.0</td>\n",
       "      <td>0.0</td>\n",
       "      <td>0.0</td>\n",
       "      <td>0.0</td>\n",
       "      <td>0.0</td>\n",
       "      <td>0.0</td>\n",
       "      <td>...</td>\n",
       "      <td>0.0</td>\n",
       "      <td>0.0</td>\n",
       "      <td>0.0</td>\n",
       "      <td>0.0</td>\n",
       "      <td>0.0</td>\n",
       "      <td>0.0</td>\n",
       "      <td>0.0</td>\n",
       "      <td>0.0</td>\n",
       "      <td>0.0</td>\n",
       "      <td>0.0</td>\n",
       "    </tr>\n",
       "    <tr>\n",
       "      <th>41999</th>\n",
       "      <td>9.0</td>\n",
       "      <td>0.0</td>\n",
       "      <td>0.0</td>\n",
       "      <td>0.0</td>\n",
       "      <td>0.0</td>\n",
       "      <td>0.0</td>\n",
       "      <td>0.0</td>\n",
       "      <td>0.0</td>\n",
       "      <td>0.0</td>\n",
       "      <td>0.0</td>\n",
       "      <td>...</td>\n",
       "      <td>0.0</td>\n",
       "      <td>0.0</td>\n",
       "      <td>0.0</td>\n",
       "      <td>0.0</td>\n",
       "      <td>0.0</td>\n",
       "      <td>0.0</td>\n",
       "      <td>0.0</td>\n",
       "      <td>0.0</td>\n",
       "      <td>0.0</td>\n",
       "      <td>0.0</td>\n",
       "    </tr>\n",
       "  </tbody>\n",
       "</table>\n",
       "<p>42000 rows × 785 columns</p>\n",
       "</div>"
      ],
      "text/plain": [
       "       label  pixel0  pixel1  pixel2  pixel3  pixel4  pixel5  pixel6  pixel7  \\\n",
       "0        1.0     0.0     0.0     0.0     0.0     0.0     0.0     0.0     0.0   \n",
       "1        0.0     0.0     0.0     0.0     0.0     0.0     0.0     0.0     0.0   \n",
       "2        1.0     0.0     0.0     0.0     0.0     0.0     0.0     0.0     0.0   \n",
       "3        4.0     0.0     0.0     0.0     0.0     0.0     0.0     0.0     0.0   \n",
       "4        0.0     0.0     0.0     0.0     0.0     0.0     0.0     0.0     0.0   \n",
       "...      ...     ...     ...     ...     ...     ...     ...     ...     ...   \n",
       "41995    0.0     0.0     0.0     0.0     0.0     0.0     0.0     0.0     0.0   \n",
       "41996    1.0     0.0     0.0     0.0     0.0     0.0     0.0     0.0     0.0   \n",
       "41997    7.0     0.0     0.0     0.0     0.0     0.0     0.0     0.0     0.0   \n",
       "41998    6.0     0.0     0.0     0.0     0.0     0.0     0.0     0.0     0.0   \n",
       "41999    9.0     0.0     0.0     0.0     0.0     0.0     0.0     0.0     0.0   \n",
       "\n",
       "       pixel8  ...  pixel774  pixel775  pixel776  pixel777  pixel778  \\\n",
       "0         0.0  ...       0.0       0.0       0.0       0.0       0.0   \n",
       "1         0.0  ...       0.0       0.0       0.0       0.0       0.0   \n",
       "2         0.0  ...       0.0       0.0       0.0       0.0       0.0   \n",
       "3         0.0  ...       0.0       0.0       0.0       0.0       0.0   \n",
       "4         0.0  ...       0.0       0.0       0.0       0.0       0.0   \n",
       "...       ...  ...       ...       ...       ...       ...       ...   \n",
       "41995     0.0  ...       0.0       0.0       0.0       0.0       0.0   \n",
       "41996     0.0  ...       0.0       0.0       0.0       0.0       0.0   \n",
       "41997     0.0  ...       0.0       0.0       0.0       0.0       0.0   \n",
       "41998     0.0  ...       0.0       0.0       0.0       0.0       0.0   \n",
       "41999     0.0  ...       0.0       0.0       0.0       0.0       0.0   \n",
       "\n",
       "       pixel779  pixel780  pixel781  pixel782  pixel783  \n",
       "0           0.0       0.0       0.0       0.0       0.0  \n",
       "1           0.0       0.0       0.0       0.0       0.0  \n",
       "2           0.0       0.0       0.0       0.0       0.0  \n",
       "3           0.0       0.0       0.0       0.0       0.0  \n",
       "4           0.0       0.0       0.0       0.0       0.0  \n",
       "...         ...       ...       ...       ...       ...  \n",
       "41995       0.0       0.0       0.0       0.0       0.0  \n",
       "41996       0.0       0.0       0.0       0.0       0.0  \n",
       "41997       0.0       0.0       0.0       0.0       0.0  \n",
       "41998       0.0       0.0       0.0       0.0       0.0  \n",
       "41999       0.0       0.0       0.0       0.0       0.0  \n",
       "\n",
       "[42000 rows x 785 columns]"
      ]
     },
     "execution_count": 2,
     "metadata": {},
     "output_type": "execute_result"
    }
   ],
   "source": [
    "train = pd.read_csv(\"/kaggle/input/digit-recognizer/train.csv\", dtype=np.float32)\n",
    "test = pd.read_csv(\"/kaggle/input/digit-recognizer/test.csv\", dtype=np.float32)\n",
    "sample_sub = pd.read_csv(\"/kaggle/input/digit-recognizer/sample_submission.csv\")\n",
    "\n",
    "train"
   ]
  },
  {
   "cell_type": "code",
   "execution_count": 3,
   "id": "b8f92eda",
   "metadata": {
    "execution": {
     "iopub.execute_input": "2024-04-04T10:47:17.618844Z",
     "iopub.status.busy": "2024-04-04T10:47:17.618459Z",
     "iopub.status.idle": "2024-04-04T10:47:17.793054Z",
     "shell.execute_reply": "2024-04-04T10:47:17.791579Z"
    },
    "papermill": {
     "duration": 0.185969,
     "end_time": "2024-04-04T10:47:17.796750",
     "exception": false,
     "start_time": "2024-04-04T10:47:17.610781",
     "status": "completed"
    },
    "tags": []
   },
   "outputs": [
    {
     "name": "stdout",
     "output_type": "stream",
     "text": [
      "(42000, 784) (42000,)\n",
      "torch.Size([42000, 784]) torch.Size([42000])\n"
     ]
    }
   ],
   "source": [
    "X = train.drop('label',axis=1).values/255\n",
    "y = train.label.values\n",
    "print(X.shape, y.shape)\n",
    "\n",
    "X = torch.tensor(X, dtype=torch.float32)\n",
    "y = torch.tensor(y, dtype=torch.int64)\n",
    "print(X.shape, y.shape)"
   ]
  },
  {
   "cell_type": "code",
   "execution_count": 4,
   "id": "ec0012a1",
   "metadata": {
    "execution": {
     "iopub.execute_input": "2024-04-04T10:47:17.818953Z",
     "iopub.status.busy": "2024-04-04T10:47:17.818302Z",
     "iopub.status.idle": "2024-04-04T10:47:48.397638Z",
     "shell.execute_reply": "2024-04-04T10:47:48.396733Z"
    },
    "papermill": {
     "duration": 30.592491,
     "end_time": "2024-04-04T10:47:48.399603",
     "exception": false,
     "start_time": "2024-04-04T10:47:17.807112",
     "status": "completed"
    },
    "tags": []
   },
   "outputs": [
    {
     "name": "stdout",
     "output_type": "stream",
     "text": [
      "Epoch    0/100 Cost: 2.319580\n",
      "Epoch   10/100 Cost: 2.249843\n",
      "Epoch   20/100 Cost: 1.941140\n",
      "Epoch   30/100 Cost: 1.548997\n",
      "Epoch   40/100 Cost: 1.167071\n",
      "Epoch   50/100 Cost: 0.850040\n",
      "Epoch   60/100 Cost: 0.708893\n",
      "Epoch   70/100 Cost: 0.613454\n",
      "Epoch   80/100 Cost: 0.540598\n",
      "Epoch   90/100 Cost: 0.478584\n",
      "예측 결과 : 2\n",
      "이 이미지 데이터의 정답 레이블은 2입니다\n"
     ]
    },
    {
     "data": {
      "image/png": "[encoded data removed]",
      "text/plain": [
       "<Figure size 640x480 with 1 Axes>"
      ]
     },
     "metadata": {},
     "output_type": "display_data"
    }
   ],
   "source": [
    "# 도구 임포트\n",
    "import torch\n",
    "import torch.nn as nn\n",
    "from torch import optim\n",
    "# 모델 정의\n",
    "model = nn.Sequential(\n",
    "  nn.Linear(784, 256),\n",
    "  nn.ReLU(),\n",
    "  nn.Linear(256, 100),\n",
    "  nn.ReLU(),\n",
    "  nn.Linear(100, 64),\n",
    "  nn.ReLU(),\n",
    "  nn.Linear(64, 32),\n",
    "  nn.ReLU(),\n",
    "  nn.Linear(32, 16),\n",
    "  nn.ReLU(),\n",
    "  nn.Linear(16, 10) \n",
    ")\n",
    "\n",
    "# 비용함수 정의\n",
    "loss_fn = nn.CrossEntropyLoss() # 이 비용 함수는 소프트맥스 함수를 포함하고 있음.\n",
    "\n",
    "# 옵티마이저 정의\n",
    "optimizer = optim.Adam(model.parameters())\n",
    "\n",
    "# 손실값\n",
    "losses = []\n",
    "\n",
    "# 훈련 실행\n",
    "for epoch in range(100):\n",
    "  optimizer.zero_grad()\n",
    "  y_pred = model(X) # forwar 연산\n",
    "  loss = loss_fn(y_pred, y)\n",
    "  loss.backward()\n",
    "  optimizer.step()\n",
    "\n",
    "  if epoch % 10 == 0:\n",
    "    print('Epoch {:4d}/{} Cost: {:.6f}'.format(epoch, 100, loss.item()))\n",
    "\n",
    "  losses.append(loss.item())\n",
    "\n",
    "plt.plot(losses)\n",
    "\n",
    "# 모델 테스트\n",
    "r = random.randint(0, len(X) - 1)\n",
    "index = r\n",
    "model.eval()\n",
    "data = X[index]\n",
    "output = model(data)\n",
    "_, predicted = torch.max(output.data, 0)\n",
    "\n",
    "print(\"예측 결과 : {}\".format(predicted))\n",
    "\n",
    "X_test_show = (X[index]).numpy()\n",
    "plt.imshow(X_test_show.reshape(28, 28), cmap='gray')\n",
    "print(\"이 이미지 데이터의 정답 레이블은 {:.0f}입니다\".format(y[index]))"
   ]
  },
  {
   "cell_type": "code",
   "execution_count": 5,
   "id": "ce4de2b4",
   "metadata": {
    "execution": {
     "iopub.execute_input": "2024-04-04T10:47:48.418130Z",
     "iopub.status.busy": "2024-04-04T10:47:48.417755Z",
     "iopub.status.idle": "2024-04-04T10:47:48.483849Z",
     "shell.execute_reply": "2024-04-04T10:47:48.482813Z"
    },
    "papermill": {
     "duration": 0.078273,
     "end_time": "2024-04-04T10:47:48.486296",
     "exception": false,
     "start_time": "2024-04-04T10:47:48.408023",
     "status": "completed"
    },
    "tags": []
   },
   "outputs": [],
   "source": [
    "X_test = test.values/255\n",
    "X_test = torch.tensor(X_test, dtype=torch.float32)"
   ]
  },
  {
   "cell_type": "code",
   "execution_count": 6,
   "id": "3e2db44a",
   "metadata": {
    "execution": {
     "iopub.execute_input": "2024-04-04T10:47:48.505240Z",
     "iopub.status.busy": "2024-04-04T10:47:48.504886Z",
     "iopub.status.idle": "2024-04-04T10:47:48.599678Z",
     "shell.execute_reply": "2024-04-04T10:47:48.598835Z"
    },
    "papermill": {
     "duration": 0.107158,
     "end_time": "2024-04-04T10:47:48.602288",
     "exception": false,
     "start_time": "2024-04-04T10:47:48.495130",
     "status": "completed"
    },
    "tags": []
   },
   "outputs": [
    {
     "data": {
      "text/html": [
       "<div>\n",
       "<style scoped>\n",
       "    .dataframe tbody tr th:only-of-type {\n",
       "        vertical-align: middle;\n",
       "    }\n",
       "\n",
       "    .dataframe tbody tr th {\n",
       "        vertical-align: top;\n",
       "    }\n",
       "\n",
       "    .dataframe thead th {\n",
       "        text-align: right;\n",
       "    }\n",
       "</style>\n",
       "<table border=\"1\" class=\"dataframe\">\n",
       "  <thead>\n",
       "    <tr style=\"text-align: right;\">\n",
       "      <th></th>\n",
       "      <th>ImageId</th>\n",
       "      <th>Label</th>\n",
       "    </tr>\n",
       "  </thead>\n",
       "  <tbody>\n",
       "    <tr>\n",
       "      <th>0</th>\n",
       "      <td>1</td>\n",
       "      <td>2</td>\n",
       "    </tr>\n",
       "    <tr>\n",
       "      <th>1</th>\n",
       "      <td>2</td>\n",
       "      <td>0</td>\n",
       "    </tr>\n",
       "    <tr>\n",
       "      <th>2</th>\n",
       "      <td>3</td>\n",
       "      <td>9</td>\n",
       "    </tr>\n",
       "    <tr>\n",
       "      <th>3</th>\n",
       "      <td>4</td>\n",
       "      <td>4</td>\n",
       "    </tr>\n",
       "    <tr>\n",
       "      <th>4</th>\n",
       "      <td>5</td>\n",
       "      <td>2</td>\n",
       "    </tr>\n",
       "  </tbody>\n",
       "</table>\n",
       "</div>"
      ],
      "text/plain": [
       "   ImageId  Label\n",
       "0        1      2\n",
       "1        2      0\n",
       "2        3      9\n",
       "3        4      4\n",
       "4        5      2"
      ]
     },
     "execution_count": 6,
     "metadata": {},
     "output_type": "execute_result"
    }
   ],
   "source": [
    "with torch.no_grad():\n",
    "    model.eval()\n",
    "    sample_sub['Label'] = model(X_test).cpu().argmax(dim=1)\n",
    "\n",
    "sample_sub.head()"
   ]
  },
  {
   "cell_type": "markdown",
   "id": "9b2020af",
   "metadata": {
    "papermill": {
     "duration": 0.009056,
     "end_time": "2024-04-04T10:47:48.621010",
     "exception": false,
     "start_time": "2024-04-04T10:47:48.611954",
     "status": "completed"
    },
    "tags": []
   },
   "source": [
    "-----"
   ]
  },
  {
   "cell_type": "code",
   "execution_count": 7,
   "id": "a7e96668",
   "metadata": {
    "execution": {
     "iopub.execute_input": "2024-04-04T10:47:48.639268Z",
     "iopub.status.busy": "2024-04-04T10:47:48.638959Z",
     "iopub.status.idle": "2024-04-04T10:47:48.651648Z",
     "shell.execute_reply": "2024-04-04T10:47:48.650589Z"
    },
    "papermill": {
     "duration": 0.023968,
     "end_time": "2024-04-04T10:47:48.653503",
     "exception": false,
     "start_time": "2024-04-04T10:47:48.629535",
     "status": "completed"
    },
    "tags": []
   },
   "outputs": [],
   "source": [
    "class CNN(torch.nn.Module):\n",
    "\n",
    "    def __init__(self):\n",
    "        super(CNN, self).__init__()\n",
    "        self.keep_prob = 0.5\n",
    "        # L1 ImgIn shape=(?, 28, 28, 1)\n",
    "        #    Conv     -> (?, 28, 28, 32)\n",
    "        #    Pool     -> (?, 14, 14, 32)\n",
    "        self.layer1 = torch.nn.Sequential(\n",
    "            torch.nn.Conv2d(1, 32, kernel_size=3, stride=1, padding=1),\n",
    "            torch.nn.ReLU(),\n",
    "            # feature map의 크기를 적당히 줄이며, 특정 feature를 강조, 채널 수 변화 x\n",
    "            torch.nn.MaxPool2d(kernel_size=2, stride=2))\n",
    "        # L2 ImgIn shape=(?, 14, 14, 32)\n",
    "        #    Conv      ->(?, 14, 14, 64)\n",
    "        #    Pool      ->(?, 7, 7, 64)\n",
    "        self.layer2 = torch.nn.Sequential(\n",
    "            torch.nn.Conv2d(32, 64, kernel_size=3, stride=1, padding=1),\n",
    "            torch.nn.ReLU(),\n",
    "            torch.nn.MaxPool2d(kernel_size=2, stride=2))\n",
    "        # L3 ImgIn shape=(?, 7, 7, 64)\n",
    "        #    Conv      ->(?, 7, 7, 128)\n",
    "        #    Pool      ->(?, 4, 4, 128)\n",
    "        self.layer3 = torch.nn.Sequential(\n",
    "            torch.nn.Conv2d(64, 128, kernel_size=3, stride=1, padding=1),\n",
    "            torch.nn.ReLU(),\n",
    "            torch.nn.MaxPool2d(kernel_size=2, stride=2, padding=1))\n",
    "\n",
    "        # L4 FC 4x4x128 inputs -> 625 outputs\n",
    "        self.fc1 = torch.nn.Linear(4 * 4 * 128, 625, bias=True)\n",
    "        torch.nn.init.xavier_uniform_(self.fc1.weight) # weight initialize\n",
    "        self.layer4 = torch.nn.Sequential(\n",
    "            self.fc1,\n",
    "            torch.nn.ReLU(),\n",
    "            torch.nn.Dropout(p=1 - self.keep_prob))\n",
    "        # L5 Final FC 625 inputs -> 10 outputs\n",
    "        self.fc2 = torch.nn.Linear(625, 10, bias=True)\n",
    "        torch.nn.init.xavier_uniform_(self.fc2.weight)\n",
    "\n",
    "    def forward(self, x):\n",
    "        out = self.layer1(x)\n",
    "        out = self.layer2(out)\n",
    "        out = self.layer3(out)\n",
    "        out = out.view(out.size(0), -1)   \n",
    "        out = self.layer4(out)\n",
    "        out = self.fc2(out)\n",
    "        return out"
   ]
  },
  {
   "cell_type": "code",
   "execution_count": 8,
   "id": "6fc48f25",
   "metadata": {
    "execution": {
     "iopub.execute_input": "2024-04-04T10:47:48.671763Z",
     "iopub.status.busy": "2024-04-04T10:47:48.671426Z",
     "iopub.status.idle": "2024-04-04T10:47:48.675314Z",
     "shell.execute_reply": "2024-04-04T10:47:48.674525Z"
    },
    "papermill": {
     "duration": 0.015073,
     "end_time": "2024-04-04T10:47:48.677191",
     "exception": false,
     "start_time": "2024-04-04T10:47:48.662118",
     "status": "completed"
    },
    "tags": []
   },
   "outputs": [],
   "source": [
    "learning_rate = 0.001\n",
    "training_epochs = 15\n",
    "batch_size = 100"
   ]
  },
  {
   "cell_type": "code",
   "execution_count": 9,
   "id": "e97ef2b6",
   "metadata": {
    "execution": {
     "iopub.execute_input": "2024-04-04T10:47:48.695557Z",
     "iopub.status.busy": "2024-04-04T10:47:48.695043Z",
     "iopub.status.idle": "2024-04-04T10:47:48.779241Z",
     "shell.execute_reply": "2024-04-04T10:47:48.778082Z"
    },
    "papermill": {
     "duration": 0.095523,
     "end_time": "2024-04-04T10:47:48.781300",
     "exception": false,
     "start_time": "2024-04-04T10:47:48.685777",
     "status": "completed"
    },
    "tags": []
   },
   "outputs": [
    {
     "name": "stdout",
     "output_type": "stream",
     "text": [
      "(42000, 784) (42000,)\n"
     ]
    }
   ],
   "source": [
    "# 데이터 로드\n",
    "X = train.drop('label',axis=1).values/255\n",
    "y = train.label.values\n",
    "print(X.shape, y.shape)"
   ]
  },
  {
   "cell_type": "code",
   "execution_count": 10,
   "id": "ee50f300",
   "metadata": {
    "execution": {
     "iopub.execute_input": "2024-04-04T10:47:48.800143Z",
     "iopub.status.busy": "2024-04-04T10:47:48.799253Z",
     "iopub.status.idle": "2024-04-04T10:47:50.487879Z",
     "shell.execute_reply": "2024-04-04T10:47:50.487022Z"
    },
    "papermill": {
     "duration": 1.700148,
     "end_time": "2024-04-04T10:47:50.490121",
     "exception": false,
     "start_time": "2024-04-04T10:47:48.789973",
     "status": "completed"
    },
    "tags": []
   },
   "outputs": [],
   "source": [
    "from sklearn.model_selection import train_test_split\n",
    "\n",
    "X_train, X_val, y_train, y_val = train_test_split(X, y, test_size = 0.2, shuffle=True)"
   ]
  },
  {
   "cell_type": "code",
   "execution_count": 11,
   "id": "eebc9561",
   "metadata": {
    "execution": {
     "iopub.execute_input": "2024-04-04T10:47:50.508993Z",
     "iopub.status.busy": "2024-04-04T10:47:50.508520Z",
     "iopub.status.idle": "2024-04-04T10:47:50.556938Z",
     "shell.execute_reply": "2024-04-04T10:47:50.555620Z"
    },
    "papermill": {
     "duration": 0.059948,
     "end_time": "2024-04-04T10:47:50.558898",
     "exception": false,
     "start_time": "2024-04-04T10:47:50.498950",
     "status": "completed"
    },
    "tags": []
   },
   "outputs": [
    {
     "name": "stdout",
     "output_type": "stream",
     "text": [
      "torch.Size([33600, 1, 28, 28]) torch.Size([33600])\n"
     ]
    }
   ],
   "source": [
    "X_train = X_train.reshape(-1, 1, 28, 28)\n",
    "\n",
    "X_train = torch.tensor(X_train, dtype=torch.float32)\n",
    "y_train = torch.tensor(y_train, dtype=torch.int64)\n",
    "print(X_train.shape, y_train.shape)\n",
    "\n",
    "dataset = TensorDataset(X_train, y_train)\n",
    "data_loader = DataLoader(dataset, batch_size=batch_size, shuffle=True)"
   ]
  },
  {
   "cell_type": "code",
   "execution_count": 12,
   "id": "dfea897f",
   "metadata": {
    "execution": {
     "iopub.execute_input": "2024-04-04T10:47:50.577325Z",
     "iopub.status.busy": "2024-04-04T10:47:50.577057Z",
     "iopub.status.idle": "2024-04-04T10:48:11.089167Z",
     "shell.execute_reply": "2024-04-04T10:48:11.088106Z"
    },
    "papermill": {
     "duration": 20.523945,
     "end_time": "2024-04-04T10:48:11.091496",
     "exception": false,
     "start_time": "2024-04-04T10:47:50.567551",
     "status": "completed"
    },
    "tags": []
   },
   "outputs": [
    {
     "name": "stdout",
     "output_type": "stream",
     "text": [
      "총 배치의 수 : 336\n",
      "Epoch    1/15 Cost: 0.138825\n",
      "Epoch    2/15 Cost: 0.083270\n",
      "Epoch    3/15 Cost: 0.003115\n",
      "Epoch    4/15 Cost: 0.041476\n",
      "Epoch    5/15 Cost: 0.025056\n",
      "Epoch    6/15 Cost: 0.030235\n",
      "Epoch    7/15 Cost: 0.012240\n",
      "Epoch    8/15 Cost: 0.009709\n",
      "Epoch    9/15 Cost: 0.004882\n",
      "Epoch   10/15 Cost: 0.066329\n",
      "Epoch   11/15 Cost: 0.007884\n",
      "Epoch   12/15 Cost: 0.019653\n",
      "Epoch   13/15 Cost: 0.060392\n",
      "Epoch   14/15 Cost: 0.004900\n",
      "Epoch   15/15 Cost: 0.014508\n"
     ]
    }
   ],
   "source": [
    "cnn = CNN().to(device)\n",
    "\n",
    "loss_fn = torch.nn.CrossEntropyLoss().to(device)    \n",
    "optimizer = torch.optim.Adam(cnn.parameters(), lr=learning_rate)\n",
    "\n",
    "total_batch = len(data_loader)\n",
    "print('총 배치의 수 : {}'.format(total_batch))\n",
    "\n",
    "costs = []\n",
    "\n",
    "for epoch in range(training_epochs):\n",
    "    avg_cost = 0\n",
    "\n",
    "    for X, Y in data_loader: # 미니 배치 \n",
    "        # image is already size of (28x28), no reshape\n",
    "        X = X.to(device)\n",
    "        Y = Y.to(device)\n",
    "        \n",
    "        optimizer.zero_grad()\n",
    "        hypothesis = cnn(X)\n",
    "        loss = loss_fn(hypothesis, Y)\n",
    "        loss.backward()\n",
    "        optimizer.step()\n",
    "\n",
    "        avg_cost += loss / total_batch\n",
    "\n",
    "    print('Epoch {:4d}/{} Cost: {:.6f}'.format(epoch + 1, training_epochs, loss.item()))\n",
    "    costs.append(loss.item())"
   ]
  },
  {
   "cell_type": "code",
   "execution_count": 13,
   "id": "ef57434a",
   "metadata": {
    "execution": {
     "iopub.execute_input": "2024-04-04T10:48:11.113356Z",
     "iopub.status.busy": "2024-04-04T10:48:11.113030Z",
     "iopub.status.idle": "2024-04-04T10:48:11.128097Z",
     "shell.execute_reply": "2024-04-04T10:48:11.127212Z"
    },
    "papermill": {
     "duration": 0.027622,
     "end_time": "2024-04-04T10:48:11.130062",
     "exception": false,
     "start_time": "2024-04-04T10:48:11.102440",
     "status": "completed"
    },
    "tags": []
   },
   "outputs": [
    {
     "data": {
      "text/plain": [
       "(torch.Size([8400, 1, 28, 28]), torch.Size([8400]))"
      ]
     },
     "execution_count": 13,
     "metadata": {},
     "output_type": "execute_result"
    }
   ],
   "source": [
    "X_val = X_val.reshape(-1, 1, 28, 28)\n",
    "\n",
    "X_val = torch.tensor(X_val, dtype=torch.float32).to(device)\n",
    "y_val = torch.tensor(y_val, dtype=torch.int64).to(device)\n",
    "X_val.shape, y_val.shape"
   ]
  },
  {
   "cell_type": "code",
   "execution_count": 14,
   "id": "afbf8c02",
   "metadata": {
    "execution": {
     "iopub.execute_input": "2024-04-04T10:48:11.152387Z",
     "iopub.status.busy": "2024-04-04T10:48:11.151578Z",
     "iopub.status.idle": "2024-04-04T10:48:11.255786Z",
     "shell.execute_reply": "2024-04-04T10:48:11.254614Z"
    },
    "papermill": {
     "duration": 0.117098,
     "end_time": "2024-04-04T10:48:11.257743",
     "exception": false,
     "start_time": "2024-04-04T10:48:11.140645",
     "status": "completed"
    },
    "tags": []
   },
   "outputs": [
    {
     "name": "stdout",
     "output_type": "stream",
     "text": [
      "Accuracy: 0.9888095259666443\n"
     ]
    }
   ],
   "source": [
    "with torch.no_grad():\n",
    "    y_pred = cnn(X_val)\n",
    "    correct_prediction = torch.argmax(y_pred, 1) == y_val\n",
    "    accuracy = correct_prediction.float().mean()\n",
    "    print('Accuracy:', accuracy.item())"
   ]
  },
  {
   "cell_type": "code",
   "execution_count": 15,
   "id": "e24a3bf7",
   "metadata": {
    "execution": {
     "iopub.execute_input": "2024-04-04T10:48:11.279576Z",
     "iopub.status.busy": "2024-04-04T10:48:11.278797Z",
     "iopub.status.idle": "2024-04-04T10:48:11.789427Z",
     "shell.execute_reply": "2024-04-04T10:48:11.788483Z"
    },
    "papermill": {
     "duration": 0.523553,
     "end_time": "2024-04-04T10:48:11.791593",
     "exception": false,
     "start_time": "2024-04-04T10:48:11.268040",
     "status": "completed"
    },
    "tags": []
   },
   "outputs": [
    {
     "data": {
      "text/html": [
       "<div>\n",
       "<style scoped>\n",
       "    .dataframe tbody tr th:only-of-type {\n",
       "        vertical-align: middle;\n",
       "    }\n",
       "\n",
       "    .dataframe tbody tr th {\n",
       "        vertical-align: top;\n",
       "    }\n",
       "\n",
       "    .dataframe thead th {\n",
       "        text-align: right;\n",
       "    }\n",
       "</style>\n",
       "<table border=\"1\" class=\"dataframe\">\n",
       "  <thead>\n",
       "    <tr style=\"text-align: right;\">\n",
       "      <th></th>\n",
       "      <th>ImageId</th>\n",
       "      <th>Label</th>\n",
       "    </tr>\n",
       "  </thead>\n",
       "  <tbody>\n",
       "    <tr>\n",
       "      <th>0</th>\n",
       "      <td>1</td>\n",
       "      <td>2</td>\n",
       "    </tr>\n",
       "    <tr>\n",
       "      <th>1</th>\n",
       "      <td>2</td>\n",
       "      <td>0</td>\n",
       "    </tr>\n",
       "    <tr>\n",
       "      <th>2</th>\n",
       "      <td>3</td>\n",
       "      <td>9</td>\n",
       "    </tr>\n",
       "    <tr>\n",
       "      <th>3</th>\n",
       "      <td>4</td>\n",
       "      <td>9</td>\n",
       "    </tr>\n",
       "    <tr>\n",
       "      <th>4</th>\n",
       "      <td>5</td>\n",
       "      <td>3</td>\n",
       "    </tr>\n",
       "  </tbody>\n",
       "</table>\n",
       "</div>"
      ],
      "text/plain": [
       "   ImageId  Label\n",
       "0        1      2\n",
       "1        2      0\n",
       "2        3      9\n",
       "3        4      9\n",
       "4        5      3"
      ]
     },
     "execution_count": 15,
     "metadata": {},
     "output_type": "execute_result"
    }
   ],
   "source": [
    "X_test = torch.tensor(test.values, dtype=torch.float32).to(device)\n",
    "X_test = X_test.reshape(-1, 1, 28, 28)\n",
    "X_test.shape\n",
    "\n",
    "with torch.no_grad():\n",
    "    cnn.eval()\n",
    "    sample_sub['Label'] = cnn(X_test).cpu().argmax(dim=1)\n",
    "\n",
    "sample_sub.head()"
   ]
  },
  {
   "cell_type": "markdown",
   "id": "074d04b7",
   "metadata": {
    "papermill": {
     "duration": 0.010299,
     "end_time": "2024-04-04T10:48:11.812593",
     "exception": false,
     "start_time": "2024-04-04T10:48:11.802294",
     "status": "completed"
    },
    "tags": []
   },
   "source": [
    "-----"
   ]
  },
  {
   "cell_type": "code",
   "execution_count": 16,
   "id": "645fae26",
   "metadata": {
    "execution": {
     "iopub.execute_input": "2024-04-04T10:48:11.834300Z",
     "iopub.status.busy": "2024-04-04T10:48:11.833980Z",
     "iopub.status.idle": "2024-04-04T10:48:11.837978Z",
     "shell.execute_reply": "2024-04-04T10:48:11.837148Z"
    },
    "papermill": {
     "duration": 0.016941,
     "end_time": "2024-04-04T10:48:11.839867",
     "exception": false,
     "start_time": "2024-04-04T10:48:11.822926",
     "status": "completed"
    },
    "tags": []
   },
   "outputs": [],
   "source": [
    "learning_rate = 0.0001\n",
    "training_epochs = 15\n",
    "batch_size = 16"
   ]
  },
  {
   "cell_type": "code",
   "execution_count": 17,
   "id": "f1f9fbbd",
   "metadata": {
    "execution": {
     "iopub.execute_input": "2024-04-04T10:48:11.860823Z",
     "iopub.status.busy": "2024-04-04T10:48:11.860533Z",
     "iopub.status.idle": "2024-04-04T10:53:15.895378Z",
     "shell.execute_reply": "2024-04-04T10:53:15.894422Z"
    },
    "papermill": {
     "duration": 304.047891,
     "end_time": "2024-04-04T10:53:15.897710",
     "exception": false,
     "start_time": "2024-04-04T10:48:11.849819",
     "status": "completed"
    },
    "tags": []
   },
   "outputs": [
    {
     "name": "stderr",
     "output_type": "stream",
     "text": [
      "/opt/conda/lib/python3.10/site-packages/torchvision/models/_utils.py:208: UserWarning: The parameter 'pretrained' is deprecated since 0.13 and may be removed in the future, please use 'weights' instead.\n",
      "  warnings.warn(\n",
      "/opt/conda/lib/python3.10/site-packages/torchvision/models/_utils.py:223: UserWarning: Arguments other than a weight enum or `None` for 'weights' are deprecated since 0.13 and may be removed in the future. The current behavior is equivalent to passing `weights=ResNet50_Weights.IMAGENET1K_V1`. You can also use `weights=ResNet50_Weights.DEFAULT` to get the most up-to-date weights.\n",
      "  warnings.warn(msg)\n",
      "Downloading: \"https://download.pytorch.org/models/resnet50-0676ba61.pth\" to /root/.cache/torch/hub/checkpoints/resnet50-0676ba61.pth\n",
      "100%|██████████| 97.8M/97.8M [00:00<00:00, 153MB/s]\n"
     ]
    },
    {
     "name": "stdout",
     "output_type": "stream",
     "text": [
      "Epoch    1/15 Cost: 0.122661\n",
      "Epoch    2/15 Cost: 0.101330\n",
      "Epoch    3/15 Cost: 0.058078\n",
      "Epoch    4/15 Cost: 0.063688\n",
      "Epoch    5/15 Cost: 0.018416\n",
      "Epoch    6/15 Cost: 0.039935\n",
      "Epoch    7/15 Cost: 0.012431\n",
      "Epoch    8/15 Cost: 0.006529\n",
      "Epoch    9/15 Cost: 0.000574\n",
      "Epoch   10/15 Cost: 0.003580\n",
      "Epoch   11/15 Cost: 0.001748\n",
      "Epoch   12/15 Cost: 0.000473\n",
      "Epoch   13/15 Cost: 0.000517\n",
      "Epoch   14/15 Cost: 0.000381\n",
      "Epoch   15/15 Cost: 0.001065\n",
      "Training Done\n"
     ]
    }
   ],
   "source": [
    "import torchvision.models as models\n",
    "\n",
    "res50 = models.resnet50(pretrained=True).to(device)\n",
    "res50.conv1 = nn.Conv2d(1, 64, kernel_size=5, stride=2, padding=3, bias=False).to(device)\n",
    "\n",
    "loss_fn = nn.CrossEntropyLoss().to(device) \n",
    "optimizer = optim.Adam(res50.parameters(), lr=learning_rate)\n",
    "# ReduceLROnPlateau : 학습률 감소 기법 중 하나로, 검증 손실이 더 이상 개선되지 않을 때 학습률을 동적으로 감소시켜 모델의 학습을 돕는 기법\n",
    "scheduler = optim.lr_scheduler.ReduceLROnPlateau(optimizer, mode='min', factor = 0.1, patience=5)\n",
    "\n",
    "num_ftrs = res50.fc.in_features\n",
    "num_classes = len([i for i in range(10)])\n",
    "res50.fc = nn.Sequential(\n",
    "    nn.Dropout(0.5),  # \n",
    "    nn.Linear(num_ftrs, num_classes)  # Adjust num_classes according to your task\n",
    ").to(device)\n",
    "\n",
    "for epoch in range(training_epochs):\n",
    "    avg_cost = 0\n",
    "\n",
    "    for X, Y in data_loader:\n",
    "        X = X.to(device)\n",
    "        Y = Y.to(device)\n",
    "            \n",
    "        optimizer.zero_grad()\n",
    "        y_pred = res50(X)\n",
    "        loss = loss_fn(y_pred, Y)\n",
    "        losses.append(loss.item())\n",
    "        loss.backward()\n",
    "        optimizer.step()\n",
    "\n",
    "    avg_cost /= len(data_loader)\n",
    "\n",
    "    print('Epoch {:4d}/{} Cost: {:.6f}'.format(epoch + 1, training_epochs, loss.item()))  \n",
    "    scheduler.step(avg_cost)\n",
    "            \n",
    "print('Training Done')"
   ]
  },
  {
   "cell_type": "code",
   "execution_count": 18,
   "id": "c38dd13c",
   "metadata": {
    "execution": {
     "iopub.execute_input": "2024-04-04T10:53:15.924371Z",
     "iopub.status.busy": "2024-04-04T10:53:15.923388Z",
     "iopub.status.idle": "2024-04-04T10:53:16.503706Z",
     "shell.execute_reply": "2024-04-04T10:53:16.502706Z"
    },
    "papermill": {
     "duration": 0.595809,
     "end_time": "2024-04-04T10:53:16.505828",
     "exception": false,
     "start_time": "2024-04-04T10:53:15.910019",
     "status": "completed"
    },
    "tags": []
   },
   "outputs": [
    {
     "name": "stdout",
     "output_type": "stream",
     "text": [
      "Accuracy: 0.9866666793823242\n"
     ]
    }
   ],
   "source": [
    "with torch.no_grad():\n",
    "    y_pred = res50(X_val)\n",
    "    correct_prediction = torch.argmax(y_pred, 1) == y_val\n",
    "    accuracy = correct_prediction.float().mean()\n",
    "    print('Accuracy:', accuracy.item())"
   ]
  },
  {
   "cell_type": "code",
   "execution_count": 19,
   "id": "eb5db690",
   "metadata": {
    "execution": {
     "iopub.execute_input": "2024-04-04T10:53:16.531959Z",
     "iopub.status.busy": "2024-04-04T10:53:16.531646Z",
     "iopub.status.idle": "2024-04-04T10:53:19.056002Z",
     "shell.execute_reply": "2024-04-04T10:53:19.055040Z"
    },
    "papermill": {
     "duration": 2.539612,
     "end_time": "2024-04-04T10:53:19.058232",
     "exception": false,
     "start_time": "2024-04-04T10:53:16.518620",
     "status": "completed"
    },
    "tags": []
   },
   "outputs": [
    {
     "data": {
      "text/html": [
       "<div>\n",
       "<style scoped>\n",
       "    .dataframe tbody tr th:only-of-type {\n",
       "        vertical-align: middle;\n",
       "    }\n",
       "\n",
       "    .dataframe tbody tr th {\n",
       "        vertical-align: top;\n",
       "    }\n",
       "\n",
       "    .dataframe thead th {\n",
       "        text-align: right;\n",
       "    }\n",
       "</style>\n",
       "<table border=\"1\" class=\"dataframe\">\n",
       "  <thead>\n",
       "    <tr style=\"text-align: right;\">\n",
       "      <th></th>\n",
       "      <th>ImageId</th>\n",
       "      <th>Label</th>\n",
       "    </tr>\n",
       "  </thead>\n",
       "  <tbody>\n",
       "    <tr>\n",
       "      <th>0</th>\n",
       "      <td>1</td>\n",
       "      <td>1</td>\n",
       "    </tr>\n",
       "    <tr>\n",
       "      <th>1</th>\n",
       "      <td>2</td>\n",
       "      <td>1</td>\n",
       "    </tr>\n",
       "    <tr>\n",
       "      <th>2</th>\n",
       "      <td>3</td>\n",
       "      <td>1</td>\n",
       "    </tr>\n",
       "    <tr>\n",
       "      <th>3</th>\n",
       "      <td>4</td>\n",
       "      <td>1</td>\n",
       "    </tr>\n",
       "    <tr>\n",
       "      <th>4</th>\n",
       "      <td>5</td>\n",
       "      <td>1</td>\n",
       "    </tr>\n",
       "  </tbody>\n",
       "</table>\n",
       "</div>"
      ],
      "text/plain": [
       "   ImageId  Label\n",
       "0        1      1\n",
       "1        2      1\n",
       "2        3      1\n",
       "3        4      1\n",
       "4        5      1"
      ]
     },
     "execution_count": 19,
     "metadata": {},
     "output_type": "execute_result"
    }
   ],
   "source": [
    "X_test = torch.tensor(test.values, dtype=torch.float32).to(device)\n",
    "X_test = X_test.reshape(-1, 1, 28, 28)\n",
    "X_test.shape\n",
    "\n",
    "with torch.no_grad():\n",
    "    res50.eval()\n",
    "    sample_sub['Label'] = res50(X_test).cpu().argmax(dim=1)\n",
    "\n",
    "sample_sub.head()"
   ]
  },
  {
   "cell_type": "code",
   "execution_count": 20,
   "id": "9594f23a",
   "metadata": {
    "execution": {
     "iopub.execute_input": "2024-04-04T10:53:19.085581Z",
     "iopub.status.busy": "2024-04-04T10:53:19.085258Z",
     "iopub.status.idle": "2024-04-04T10:53:19.123160Z",
     "shell.execute_reply": "2024-04-04T10:53:19.122468Z"
    },
    "papermill": {
     "duration": 0.053545,
     "end_time": "2024-04-04T10:53:19.125201",
     "exception": false,
     "start_time": "2024-04-04T10:53:19.071656",
     "status": "completed"
    },
    "tags": []
   },
   "outputs": [],
   "source": [
    "sample_sub.to_csv(\"res50_submission.csv\", index=False)"
   ]
  },
  {
   "cell_type": "markdown",
   "id": "74ebaebf",
   "metadata": {
    "papermill": {
     "duration": 0.012418,
     "end_time": "2024-04-04T10:53:19.150112",
     "exception": false,
     "start_time": "2024-04-04T10:53:19.137694",
     "status": "completed"
    },
    "tags": []
   },
   "source": [
    "-----"
   ]
  }
 ],
 "metadata": {
  "kaggle": {
   "accelerator": "gpu",
   "dataSources": [
    {
     "databundleVersionId": 861823,
     "sourceId": 3004,
     "sourceType": "competition"
    }
   ],
   "dockerImageVersionId": 30673,
   "isGpuEnabled": true,
   "isInternetEnabled": true,
   "language": "python",
   "sourceType": "notebook"
  },
  "kernelspec": {
   "display_name": "Python 3",
   "language": "python",
   "name": "python3"
  },
  "language_info": {
   "codemirror_mode": {
    "name": "ipython",
    "version": 3
   },
   "file_extension": ".py",
   "mimetype": "text/x-python",
   "name": "python",
   "nbconvert_exporter": "python",
   "pygments_lexer": "ipython3",
   "version": "3.10.13"
  },
  "papermill": {
   "default_parameters": {},
   "duration": 380.103319,
   "end_time": "2024-04-04T10:53:20.986938",
   "environment_variables": {},
   "exception": null,
   "input_path": "__notebook__.ipynb",
   "output_path": "__notebook__.ipynb",
   "parameters": {},
   "start_time": "2024-04-04T10:47:00.883619",
   "version": "2.5.0"
  }
 },
 "nbformat": 4,
 "nbformat_minor": 5
}
